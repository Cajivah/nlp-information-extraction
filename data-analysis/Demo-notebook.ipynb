{
 "cells": [
  {
   "cell_type": "code",
   "execution_count": null,
   "metadata": {},
   "outputs": [],
   "source": [
    "from src.demo import FinalExtractor\n",
    "from src.metadata import map_to_polish_names\n",
    "import pandas as pd\n",
    "\n",
    "extracted_properties = ['subject', 'internetSpeed', 'district', 'street', 'roomsCount', 'preferredOccupation', 'preferredGender', 'flatMeterage', 'roomMeterage']"
   ]
  },
  {
   "cell_type": "code",
   "execution_count": null,
   "metadata": {},
   "outputs": [],
   "source": [
    "data = ''''''"
   ]
  },
  {
   "cell_type": "code",
   "execution_count": null,
   "metadata": {},
   "outputs": [],
   "source": [
    "extractor = FinalExtractor()\n",
    "result = extractor.extract(data)\n",
    "result = {key: value for key, value in result.items() if key in extracted_properties}\n",
    "result = map_to_polish_names(result)"
   ]
  },
  {
   "cell_type": "code",
   "execution_count": null,
   "metadata": {},
   "outputs": [],
   "source": [
    "columns = ['Atrybut', 'Wartość']\n",
    "data = [[key, value] for key, value in result.items()]\n",
    "df = pd.DataFrame(data=data, columns=columns)\n",
    "display(df)"
   ]
  },
  {
   "cell_type": "code",
   "execution_count": null,
   "metadata": {},
   "outputs": [],
   "source": []
  }
 ],
 "metadata": {
  "kernelspec": {
   "display_name": "Python 3",
   "language": "python",
   "name": "python3"
  },
  "language_info": {
   "codemirror_mode": {
    "name": "ipython",
    "version": 3
   },
   "file_extension": ".py",
   "mimetype": "text/x-python",
   "name": "python",
   "nbconvert_exporter": "python",
   "pygments_lexer": "ipython3",
   "version": "3.6.7"
  }
 },
 "nbformat": 4,
 "nbformat_minor": 2
}
