{
 "cells": [
  {
   "cell_type": "code",
   "execution_count": 6,
   "metadata": {},
   "outputs": [],
   "source": [
    "import json\n",
    "import pandas as pd\n",
    "from src.comparator import compare_metadata, Comparator, print_diff, print_correctly_extracted\n",
    "import src.datasets as load\n",
    "from src.kuba_information_extractor import KubaInformationExtractor\n",
    "import pprint\n",
    "\n",
    "DATA_PATH = 'data/'\n",
    "data_sets = load.load(DATA_PATH)\n",
    "\n",
    "import numpy as np  \n",
    "import re  \n",
    "from sklearn.datasets import load_files  \n",
    "import pickle  \n",
    "\n",
    "from src.morf_utils import MorfWrapper\n",
    "from src.compare_utils import deogonkify\n",
    "import morfeusz2\n",
    "\n",
    "translation = {\"female\": 2, \"male\": 1, \"any\": 0}"
   ]
  },
  {
   "cell_type": "code",
   "execution_count": 7,
   "metadata": {},
   "outputs": [
    {
     "data": {
      "text/plain": [
       "{'subject': 'roomShare',\n",
       " 'flatMeterage': None,\n",
       " 'roomMeterage': None,\n",
       " 'rent': 650,\n",
       " 'bills': 0,\n",
       " 'deposit': None,\n",
       " 'internetSpeed': None,\n",
       " 'district': None,\n",
       " 'street': 'Prusa',\n",
       " 'roomsCount': 3,\n",
       " 'flatmatesCount': None,\n",
       " 'flatmatesGenders': None,\n",
       " 'flatmatesOccupation': None,\n",
       " 'preferredOccupation': None,\n",
       " 'preferredGender': None}"
      ]
     },
     "metadata": {},
     "output_type": "display_data"
    },
    {
     "data": {
      "text/plain": [
       "{'subject': 'room',\n",
       " 'flatMeterage': None,\n",
       " 'roomMeterage': 11,\n",
       " 'rent': 700,\n",
       " 'bills': None,\n",
       " 'deposit': 700,\n",
       " 'internetSpeed': None,\n",
       " 'district': 'Złotniki',\n",
       " 'street': 'Kosmonautów',\n",
       " 'roomsCount': 2,\n",
       " 'flatmatesCount': None,\n",
       " 'flatmatesGenders': None,\n",
       " 'flatmatesOccupation': None,\n",
       " 'preferredOccupation': None,\n",
       " 'preferredGender': 'female'}"
      ]
     },
     "metadata": {},
     "output_type": "display_data"
    },
    {
     "data": {
      "text/plain": [
       "{'subject': 'room',\n",
       " 'flatMeterage': None,\n",
       " 'roomMeterage': 12,\n",
       " 'rent': 700,\n",
       " 'bills': 0,\n",
       " 'deposit': None,\n",
       " 'internetSpeed': None,\n",
       " 'district': None,\n",
       " 'street': 'Żmigrodzka',\n",
       " 'roomsCount': 3,\n",
       " 'flatmatesCount': 2,\n",
       " 'flatmatesGenders': ['female', 'female'],\n",
       " 'flatmatesOccupation': ['proffesional', 'proffesional'],\n",
       " 'preferredOccupation': None,\n",
       " 'preferredGender': 'female'}"
      ]
     },
     "metadata": {},
     "output_type": "display_data"
    },
    {
     "data": {
      "text/plain": [
       "{'subject': 'room',\n",
       " 'flatMeterage': 50,\n",
       " 'roomMeterage': 16,\n",
       " 'rent': 900,\n",
       " 'bills': 250,\n",
       " 'deposit': 1100,\n",
       " 'internetSpeed': None,\n",
       " 'district': 'Krakowskie Tarasy',\n",
       " 'street': 'Krakowska',\n",
       " 'roomsCount': 2,\n",
       " 'flatmatesCount': None,\n",
       " 'flatmatesGenders': None,\n",
       " 'flatmatesOccupation': None,\n",
       " 'preferredOccupation': None,\n",
       " 'preferredGender': None}"
      ]
     },
     "metadata": {},
     "output_type": "display_data"
    },
    {
     "data": {
      "text/plain": [
       "{'subject': 'roomShare',\n",
       " 'flatMeterage': None,\n",
       " 'roomMeterage': 17,\n",
       " 'rent': 800,\n",
       " 'bills': None,\n",
       " 'deposit': None,\n",
       " 'internetSpeed': None,\n",
       " 'district': 'Nowe Jagodno',\n",
       " 'street': 'Buforowa',\n",
       " 'roomsCount': None,\n",
       " 'flatmatesCount': None,\n",
       " 'flatmatesGenders': None,\n",
       " 'flatmatesOccupation': None,\n",
       " 'preferredOccupation': None,\n",
       " 'preferredGender': None}"
      ]
     },
     "metadata": {},
     "output_type": "display_data"
    },
    {
     "data": {
      "text/plain": [
       "{'subject': 'roomShare',\n",
       " 'flatMeterage': None,\n",
       " 'roomMeterage': None,\n",
       " 'rent': 500,\n",
       " 'bills': 150,\n",
       " 'deposit': None,\n",
       " 'internetSpeed': 120,\n",
       " 'district': None,\n",
       " 'street': None,\n",
       " 'roomsCount': None,\n",
       " 'flatmatesCount': None,\n",
       " 'flatmatesGenders': None,\n",
       " 'flatmatesOccupation': None,\n",
       " 'preferredOccupation': None,\n",
       " 'preferredGender': 'female'}"
      ]
     },
     "metadata": {},
     "output_type": "display_data"
    },
    {
     "data": {
      "text/plain": [
       "{'subject': 'room',\n",
       " 'flatMeterage': None,\n",
       " 'roomMeterage': None,\n",
       " 'rent': 900,\n",
       " 'bills': 0,\n",
       " 'deposit': 900,\n",
       " 'internetSpeed': None,\n",
       " 'district': None,\n",
       " 'street': 'Szczęśliwa',\n",
       " 'roomsCount': 4,\n",
       " 'flatmatesCount': None,\n",
       " 'flatmatesGenders': None,\n",
       " 'flatmatesOccupation': None,\n",
       " 'preferredOccupation': None,\n",
       " 'preferredGender': None}"
      ]
     },
     "metadata": {},
     "output_type": "display_data"
    },
    {
     "data": {
      "text/plain": [
       "{'subject': 'room',\n",
       " 'flatMeterage': None,\n",
       " 'roomMeterage': None,\n",
       " 'rent': 710,\n",
       " 'bills': 60,\n",
       " 'deposit': None,\n",
       " 'internetSpeed': None,\n",
       " 'district': 'Różanka',\n",
       " 'street': 'Bałtycka/Broniewskiego',\n",
       " 'roomsCount': 4,\n",
       " 'flatmatesCount': 3,\n",
       " 'flatmatesGenders': None,\n",
       " 'flatmatesOccupation': None,\n",
       " 'preferredOccupation': None,\n",
       " 'preferredGender': None}"
      ]
     },
     "metadata": {},
     "output_type": "display_data"
    },
    {
     "data": {
      "text/plain": [
       "{'subject': 'room',\n",
       " 'flatMeterage': None,\n",
       " 'roomMeterage': None,\n",
       " 'rent': 1050,\n",
       " 'bills': 0,\n",
       " 'deposit': None,\n",
       " 'internetSpeed': None,\n",
       " 'district': None,\n",
       " 'street': 'Grabiszyńska',\n",
       " 'roomsCount': 2,\n",
       " 'flatmatesCount': 2,\n",
       " 'flatmatesGenders': ['male', 'female'],\n",
       " 'flatmatesOccupation': ['proffesional', 'proffesional'],\n",
       " 'preferredOccupation': None,\n",
       " 'preferredGender': None}"
      ]
     },
     "metadata": {},
     "output_type": "display_data"
    },
    {
     "data": {
      "text/plain": [
       "{'subject': 'room',\n",
       " 'flatMeterage': None,\n",
       " 'roomMeterage': None,\n",
       " 'rent': 600,\n",
       " 'bills': None,\n",
       " 'deposit': 600,\n",
       " 'internetSpeed': None,\n",
       " 'district': 'Różanka',\n",
       " 'street': None,\n",
       " 'roomsCount': 2,\n",
       " 'flatmatesCount': None,\n",
       " 'flatmatesGenders': None,\n",
       " 'flatmatesOccupation': None,\n",
       " 'preferredOccupation': 'professional',\n",
       " 'preferredGender': 'male'}"
      ]
     },
     "metadata": {},
     "output_type": "display_data"
    },
    {
     "data": {
      "text/plain": [
       "{'subject': 'room',\n",
       " 'flatMeterage': None,\n",
       " 'roomMeterage': None,\n",
       " 'rent': 1100,\n",
       " 'bills': 200,\n",
       " 'deposit': 1000,\n",
       " 'internetSpeed': None,\n",
       " 'district': None,\n",
       " 'street': 'Młodnickiego',\n",
       " 'roomsCount': None,\n",
       " 'flatmatesCount': None,\n",
       " 'flatmatesGenders': None,\n",
       " 'flatmatesOccupation': None,\n",
       " 'preferredOccupation': None,\n",
       " 'preferredGender': None}"
      ]
     },
     "metadata": {},
     "output_type": "display_data"
    },
    {
     "data": {
      "text/plain": [
       "{'subject': 'roomShare',\n",
       " 'flatMeterage': None,\n",
       " 'roomMeterage': None,\n",
       " 'rent': 650,\n",
       " 'bills': None,\n",
       " 'deposit': 650,\n",
       " 'internetSpeed': None,\n",
       " 'district': None,\n",
       " 'street': 'Hallera',\n",
       " 'roomsCount': None,\n",
       " 'flatmatesCount': 4,\n",
       " 'flatmatesGenders': ['female', 'female', 'female', 'female'],\n",
       " 'flatmatesOccupation': ['proffesional',\n",
       "  'proffesional',\n",
       "  'proffesional',\n",
       "  'proffesional'],\n",
       " 'preferredOccupation': None,\n",
       " 'preferredGender': None}"
      ]
     },
     "metadata": {},
     "output_type": "display_data"
    },
    {
     "data": {
      "text/plain": [
       "{'subject': 'room',\n",
       " 'flatMeterage': None,\n",
       " 'roomMeterage': 20,\n",
       " 'rent': 1100,\n",
       " 'bills': 0,\n",
       " 'deposit': 1100,\n",
       " 'internetSpeed': None,\n",
       " 'district': None,\n",
       " 'street': 'Jesionowa',\n",
       " 'roomsCount': 3,\n",
       " 'flatmatesCount': None,\n",
       " 'flatmatesGenders': None,\n",
       " 'flatmatesOccupation': None,\n",
       " 'preferredOccupation': None,\n",
       " 'preferredGender': None}"
      ]
     },
     "metadata": {},
     "output_type": "display_data"
    },
    {
     "data": {
      "text/plain": [
       "{'subject': 'room',\n",
       " 'flatMeterage': None,\n",
       " 'roomMeterage': 9.5,\n",
       " 'rent': 900,\n",
       " 'bills': 0,\n",
       " 'deposit': None,\n",
       " 'internetSpeed': None,\n",
       " 'district': None,\n",
       " 'street': 'Prądzyńskiego',\n",
       " 'roomsCount': 3,\n",
       " 'flatmatesCount': 2,\n",
       " 'flatmatesGenders': ['male', 'male'],\n",
       " 'flatmatesOccupation': None,\n",
       " 'preferredOccupation': None,\n",
       " 'preferredGender': None}"
      ]
     },
     "metadata": {},
     "output_type": "display_data"
    },
    {
     "data": {
      "text/plain": [
       "{'subject': 'room',\n",
       " 'flatMeterage': 52,\n",
       " 'roomMeterage': 6,\n",
       " 'rent': None,\n",
       " 'bills': None,\n",
       " 'deposit': 500,\n",
       " 'internetSpeed': None,\n",
       " 'district': None,\n",
       " 'street': 'Krucza',\n",
       " 'roomsCount': 3,\n",
       " 'flatmatesCount': None,\n",
       " 'flatmatesGenders': None,\n",
       " 'flatmatesOccupation': None,\n",
       " 'preferredOccupation': None,\n",
       " 'preferredGender': None}"
      ]
     },
     "metadata": {},
     "output_type": "display_data"
    },
    {
     "data": {
      "text/plain": [
       "{'subject': 'room',\n",
       " 'flatMeterage': None,\n",
       " 'roomMeterage': None,\n",
       " 'rent': 1050,\n",
       " 'bills': 0,\n",
       " 'deposit': None,\n",
       " 'internetSpeed': None,\n",
       " 'district': None,\n",
       " 'street': None,\n",
       " 'roomsCount': 3,\n",
       " 'flatmatesCount': 2,\n",
       " 'flatmatesGenders': ['male', 'male'],\n",
       " 'flatmatesOccupation': ['student/proffesional', 'student/proffesional'],\n",
       " 'preferredOccupation': None,\n",
       " 'preferredGender': None}"
      ]
     },
     "metadata": {},
     "output_type": "display_data"
    },
    {
     "data": {
      "text/plain": [
       "{'subject': 'room',\n",
       " 'flatMeterage': None,\n",
       " 'roomMeterage': None,\n",
       " 'rent': 850,\n",
       " 'bills': 0,\n",
       " 'deposit': 850,\n",
       " 'internetSpeed': None,\n",
       " 'district': None,\n",
       " 'street': 'Szpitalna',\n",
       " 'roomsCount': 6,\n",
       " 'flatmatesCount': None,\n",
       " 'flatmatesGenders': None,\n",
       " 'flatmatesOccupation': None,\n",
       " 'preferredOccupation': None,\n",
       " 'preferredGender': None}"
      ]
     },
     "metadata": {},
     "output_type": "display_data"
    },
    {
     "data": {
      "text/plain": [
       "{'subject': 'room',\n",
       " 'flatMeterage': None,\n",
       " 'roomMeterage': 20,\n",
       " 'rent': 450,\n",
       " 'bills': 90,\n",
       " 'deposit': 650,\n",
       " 'internetSpeed': 100,\n",
       " 'district': 'Muchobór Wielki',\n",
       " 'street': 'Trawowa',\n",
       " 'roomsCount': 3,\n",
       " 'flatmatesCount': 2,\n",
       " 'flatmatesGenders': ['female', 'male'],\n",
       " 'flatmatesOccupation': ['proffesional', 'proffesional'],\n",
       " 'preferredOccupation': None,\n",
       " 'preferredGender': None}"
      ]
     },
     "metadata": {},
     "output_type": "display_data"
    },
    {
     "data": {
      "text/plain": [
       "{'subject': 'room',\n",
       " 'flatMeterage': 70,\n",
       " 'roomMeterage': 10,\n",
       " 'rent': 850,\n",
       " 'bills': 0,\n",
       " 'deposit': 850,\n",
       " 'internetSpeed': 100,\n",
       " 'district': None,\n",
       " 'street': 'Prądzyńskiego',\n",
       " 'roomsCount': 4,\n",
       " 'flatmatesCount': None,\n",
       " 'flatmatesGenders': None,\n",
       " 'flatmatesOccupation': None,\n",
       " 'preferredOccupation': None,\n",
       " 'preferredGender': None}"
      ]
     },
     "metadata": {},
     "output_type": "display_data"
    },
    {
     "data": {
      "text/plain": [
       "{'subject': 'room',\n",
       " 'flatMeterage': None,\n",
       " 'roomMeterage': None,\n",
       " 'rent': 800,\n",
       " 'bills': 90,\n",
       " 'deposit': None,\n",
       " 'internetSpeed': None,\n",
       " 'district': 'Oporów',\n",
       " 'street': 'Solskiego',\n",
       " 'roomsCount': 2,\n",
       " 'flatmatesCount': 1,\n",
       " 'flatmatesGenders': ['female'],\n",
       " 'flatmatesOccupation': None,\n",
       " 'preferredOccupation': None,\n",
       " 'preferredGender': None}"
      ]
     },
     "metadata": {},
     "output_type": "display_data"
    },
    {
     "data": {
      "text/plain": [
       "{'subject': 'room',\n",
       " 'flatMeterage': 64,\n",
       " 'roomMeterage': None,\n",
       " 'rent': 650,\n",
       " 'bills': 160,\n",
       " 'deposit': None,\n",
       " 'internetSpeed': None,\n",
       " 'district': 'Muchobór Wielki',\n",
       " 'street': 'Gagarina',\n",
       " 'roomsCount': 4,\n",
       " 'flatmatesCount': None,\n",
       " 'flatmatesGenders': None,\n",
       " 'flatmatesOccupation': None,\n",
       " 'preferredOccupation': None,\n",
       " 'preferredGender': None}"
      ]
     },
     "metadata": {},
     "output_type": "display_data"
    },
    {
     "data": {
      "text/plain": [
       "{'subject': 'room',\n",
       " 'flatMeterage': None,\n",
       " 'roomMeterage': 25,\n",
       " 'rent': 1200,\n",
       " 'bills': 0,\n",
       " 'deposit': 1200,\n",
       " 'internetSpeed': None,\n",
       " 'district': None,\n",
       " 'street': 'Tomaszowska',\n",
       " 'roomsCount': 3,\n",
       " 'flatmatesCount': None,\n",
       " 'flatmatesGenders': None,\n",
       " 'flatmatesOccupation': None,\n",
       " 'preferredOccupation': None,\n",
       " 'preferredGender': None}"
      ]
     },
     "metadata": {},
     "output_type": "display_data"
    },
    {
     "data": {
      "text/plain": [
       "{'subject': 'room',\n",
       " 'flatMeterage': None,\n",
       " 'roomMeterage': None,\n",
       " 'rent': 800,\n",
       " 'bills': 100,\n",
       " 'deposit': None,\n",
       " 'internetSpeed': None,\n",
       " 'district': None,\n",
       " 'street': 'Dubois',\n",
       " 'roomsCount': 2,\n",
       " 'flatmatesCount': 1,\n",
       " 'flatmatesGenders': ['female'],\n",
       " 'flatmatesOccupation': ['student'],\n",
       " 'preferredOccupation': None,\n",
       " 'preferredGender': None}"
      ]
     },
     "metadata": {},
     "output_type": "display_data"
    },
    {
     "data": {
      "text/plain": [
       "{'subject': 'roomShare',\n",
       " 'flatMeterage': None,\n",
       " 'roomMeterage': 22,\n",
       " 'rent': 500,\n",
       " 'bills': 150,\n",
       " 'deposit': 650,\n",
       " 'internetSpeed': None,\n",
       " 'district': None,\n",
       " 'street': 'Macedońska',\n",
       " 'roomsCount': 2,\n",
       " 'flatmatesCount': None,\n",
       " 'flatmatesGenders': None,\n",
       " 'flatmatesOccupation': None,\n",
       " 'preferredOccupation': None,\n",
       " 'preferredGender': 'female'}"
      ]
     },
     "metadata": {},
     "output_type": "display_data"
    },
    {
     "data": {
      "text/plain": [
       "{'subject': 'roomShare',\n",
       " 'flatMeterage': None,\n",
       " 'roomMeterage': None,\n",
       " 'rent': 675,\n",
       " 'bills': None,\n",
       " 'deposit': None,\n",
       " 'internetSpeed': None,\n",
       " 'district': None,\n",
       " 'street': 'Burzowa',\n",
       " 'roomsCount': 3,\n",
       " 'flatmatesCount': 3,\n",
       " 'flatmatesGenders': ['female', 'female', 'female'],\n",
       " 'flatmatesOccupation': None,\n",
       " 'preferredOccupation': 'student',\n",
       " 'preferredGender': 'female'}"
      ]
     },
     "metadata": {},
     "output_type": "display_data"
    },
    {
     "data": {
      "text/plain": [
       "{'subject': 'room',\n",
       " 'flatMeterage': None,\n",
       " 'roomMeterage': 15,\n",
       " 'rent': None,\n",
       " 'bills': None,\n",
       " 'deposit': None,\n",
       " 'internetSpeed': None,\n",
       " 'district': None,\n",
       " 'street': 'Klimasa',\n",
       " 'roomsCount': 3,\n",
       " 'flatmatesCount': None,\n",
       " 'flatmatesGenders': None,\n",
       " 'flatmatesOccupation': None,\n",
       " 'preferredOccupation': None,\n",
       " 'preferredGender': None}"
      ]
     },
     "metadata": {},
     "output_type": "display_data"
    },
    {
     "data": {
      "text/plain": [
       "{'subject': 'roomShare',\n",
       " 'flatMeterage': 58,\n",
       " 'roomMeterage': None,\n",
       " 'rent': 500,\n",
       " 'bills': None,\n",
       " 'deposit': None,\n",
       " 'internetSpeed': None,\n",
       " 'district': None,\n",
       " 'street': 'Jaracza',\n",
       " 'roomsCount': 3,\n",
       " 'flatmatesCount': 3,\n",
       " 'flatmatesGenders': ['female'],\n",
       " 'flatmatesOccupation': ['student'],\n",
       " 'preferredOccupation': None,\n",
       " 'preferredGender': 'female'}"
      ]
     },
     "metadata": {},
     "output_type": "display_data"
    },
    {
     "data": {
      "text/plain": [
       "{'subject': 'room',\n",
       " 'flatMeterage': None,\n",
       " 'roomMeterage': None,\n",
       " 'rent': 550,\n",
       " 'bills': None,\n",
       " 'deposit': None,\n",
       " 'internetSpeed': None,\n",
       " 'district': 'Maślice',\n",
       " 'street': 'Kozia',\n",
       " 'roomsCount': 3,\n",
       " 'flatmatesCount': None,\n",
       " 'flatmatesGenders': None,\n",
       " 'flatmatesOccupation': None,\n",
       " 'preferredOccupation': None,\n",
       " 'preferredGender': None}"
      ]
     },
     "metadata": {},
     "output_type": "display_data"
    },
    {
     "data": {
      "text/plain": [
       "{'subject': 'roomShare',\n",
       " 'flatMeterage': None,\n",
       " 'roomMeterage': None,\n",
       " 'rent': 500,\n",
       " 'bills': 100,\n",
       " 'deposit': 600,\n",
       " 'internetSpeed': None,\n",
       " 'district': None,\n",
       " 'street': None,\n",
       " 'roomsCount': None,\n",
       " 'flatmatesCount': None,\n",
       " 'flatmatesGenders': None,\n",
       " 'flatmatesOccupation': None,\n",
       " 'preferredOccupation': None,\n",
       " 'preferredGender': None}"
      ]
     },
     "metadata": {},
     "output_type": "display_data"
    },
    {
     "data": {
      "text/plain": [
       "{'subject': 'room',\n",
       " 'flatMeterage': 68,\n",
       " 'roomMeterage': 12,\n",
       " 'rent': 700,\n",
       " 'bills': 100,\n",
       " 'deposit': 800,\n",
       " 'internetSpeed': None,\n",
       " 'district': 'Krzyki',\n",
       " 'street': 'Burzowa',\n",
       " 'roomsCount': 3,\n",
       " 'flatmatesCount': 2,\n",
       " 'flatmatesGenders': ['male', 'male'],\n",
       " 'flatmatesOccupation': ['proffesional', 'proffesional'],\n",
       " 'preferredOccupation': None,\n",
       " 'preferredGender': None}"
      ]
     },
     "metadata": {},
     "output_type": "display_data"
    },
    {
     "data": {
      "text/plain": [
       "{'subject': 'room',\n",
       " 'flatMeterage': None,\n",
       " 'roomMeterage': 10,\n",
       " 'rent': 780,\n",
       " 'bills': 0,\n",
       " 'deposit': 300,\n",
       " 'internetSpeed': None,\n",
       " 'district': None,\n",
       " 'street': None,\n",
       " 'roomsCount': 4,\n",
       " 'flatmatesCount': None,\n",
       " 'flatmatesGenders': None,\n",
       " 'flatmatesOccupation': None,\n",
       " 'preferredOccupation': None,\n",
       " 'preferredGender': None}"
      ]
     },
     "metadata": {},
     "output_type": "display_data"
    },
    {
     "data": {
      "text/plain": [
       "{'subject': 'room',\n",
       " 'flatMeterage': 54,\n",
       " 'roomMeterage': 13,\n",
       " 'rent': 710,\n",
       " 'bills': 210,\n",
       " 'deposit': 950,\n",
       " 'internetSpeed': None,\n",
       " 'district': 'Muchobór Mały',\n",
       " 'street': 'Szkocka',\n",
       " 'roomsCount': 3,\n",
       " 'flatmatesCount': None,\n",
       " 'flatmatesGenders': None,\n",
       " 'flatmatesOccupation': None,\n",
       " 'preferredOccupation': None,\n",
       " 'preferredGender': None}"
      ]
     },
     "metadata": {},
     "output_type": "display_data"
    },
    {
     "data": {
      "text/plain": [
       "{'subject': 'room',\n",
       " 'flatMeterage': 63.3,\n",
       " 'roomMeterage': None,\n",
       " 'rent': 730,\n",
       " 'bills': 160,\n",
       " 'deposit': 900,\n",
       " 'internetSpeed': 300,\n",
       " 'district': 'Nowy Dwór',\n",
       " 'street': 'Budziszyńska',\n",
       " 'roomsCount': 5,\n",
       " 'flatmatesCount': None,\n",
       " 'flatmatesGenders': None,\n",
       " 'flatmatesOccupation': None,\n",
       " 'preferredOccupation': None,\n",
       " 'preferredGender': None}"
      ]
     },
     "metadata": {},
     "output_type": "display_data"
    },
    {
     "data": {
      "text/plain": [
       "{'subject': 'room',\n",
       " 'flatMeterage': 62,\n",
       " 'roomMeterage': 11,\n",
       " 'rent': 570,\n",
       " 'bills': None,\n",
       " 'deposit': None,\n",
       " 'internetSpeed': None,\n",
       " 'district': None,\n",
       " 'street': None,\n",
       " 'roomsCount': None,\n",
       " 'flatmatesCount': 2,\n",
       " 'flatmatesGenders': ['male', 'female'],\n",
       " 'flatmatesOccupation': None,\n",
       " 'preferredOccupation': None,\n",
       " 'preferredGender': None}"
      ]
     },
     "metadata": {},
     "output_type": "display_data"
    },
    {
     "data": {
      "text/plain": [
       "{'subject': 'room',\n",
       " 'flatMeterage': None,\n",
       " 'roomMeterage': None,\n",
       " 'rent': None,\n",
       " 'bills': 100,\n",
       " 'deposit': 750,\n",
       " 'internetSpeed': None,\n",
       " 'district': None,\n",
       " 'street': 'Pilczycka',\n",
       " 'roomsCount': 2,\n",
       " 'flatmatesCount': None,\n",
       " 'flatmatesGenders': None,\n",
       " 'flatmatesOccupation': None,\n",
       " 'preferredOccupation': None,\n",
       " 'preferredGender': None}"
      ]
     },
     "metadata": {},
     "output_type": "display_data"
    },
    {
     "data": {
      "text/plain": [
       "{'subject': 'roomShare',\n",
       " 'flatMeterage': None,\n",
       " 'roomMeterage': None,\n",
       " 'rent': 490,\n",
       " 'bills': 0,\n",
       " 'deposit': None,\n",
       " 'internetSpeed': None,\n",
       " 'district': None,\n",
       " 'street': None,\n",
       " 'roomsCount': None,\n",
       " 'flatmatesCount': None,\n",
       " 'flatmatesGenders': None,\n",
       " 'flatmatesOccupation': None,\n",
       " 'preferredOccupation': None,\n",
       " 'preferredGender': None}"
      ]
     },
     "metadata": {},
     "output_type": "display_data"
    },
    {
     "data": {
      "text/plain": [
       "{'subject': 'room',\n",
       " 'flatMeterage': None,\n",
       " 'roomMeterage': None,\n",
       " 'rent': None,\n",
       " 'bills': 0,\n",
       " 'deposit': None,\n",
       " 'internetSpeed': None,\n",
       " 'district': None,\n",
       " 'street': 'Horbaczewskiego',\n",
       " 'roomsCount': 3,\n",
       " 'flatmatesCount': None,\n",
       " 'flatmatesGenders': None,\n",
       " 'flatmatesOccupation': None,\n",
       " 'preferredOccupation': None,\n",
       " 'preferredGender': None}"
      ]
     },
     "metadata": {},
     "output_type": "display_data"
    },
    {
     "data": {
      "text/plain": [
       "{'subject': 'room',\n",
       " 'flatMeterage': None,\n",
       " 'roomMeterage': None,\n",
       " 'rent': 750,\n",
       " 'bills': 150,\n",
       " 'deposit': 1000,\n",
       " 'internetSpeed': None,\n",
       " 'district': None,\n",
       " 'street': 'Gajowicka',\n",
       " 'roomsCount': None,\n",
       " 'flatmatesCount': None,\n",
       " 'flatmatesGenders': None,\n",
       " 'flatmatesOccupation': None,\n",
       " 'preferredOccupation': None,\n",
       " 'preferredGender': None}"
      ]
     },
     "metadata": {},
     "output_type": "display_data"
    },
    {
     "data": {
      "text/plain": [
       "{'subject': 'roomShare',\n",
       " 'flatMeterage': 64,\n",
       " 'roomMeterage': None,\n",
       " 'rent': None,\n",
       " 'bills': 100,\n",
       " 'deposit': None,\n",
       " 'internetSpeed': None,\n",
       " 'district': None,\n",
       " 'street': 'Horbaczewskiego',\n",
       " 'roomsCount': 3,\n",
       " 'flatmatesCount': 3,\n",
       " 'flatmatesGenders': None,\n",
       " 'flatmatesOccupation': None,\n",
       " 'preferredOccupation': None,\n",
       " 'preferredGender': None}"
      ]
     },
     "metadata": {},
     "output_type": "display_data"
    },
    {
     "data": {
      "text/plain": [
       "{'subject': 'roomShare',\n",
       " 'flatMeterage': None,\n",
       " 'roomMeterage': 15,\n",
       " 'rent': 1200,\n",
       " 'bills': None,\n",
       " 'deposit': None,\n",
       " 'internetSpeed': None,\n",
       " 'district': 'Śródmieście',\n",
       " 'street': 'Miarki',\n",
       " 'roomsCount': 2,\n",
       " 'flatmatesCount': 1,\n",
       " 'flatmatesGenders': None,\n",
       " 'flatmatesOccupation': None,\n",
       " 'preferredOccupation': None,\n",
       " 'preferredGender': None}"
      ]
     },
     "metadata": {},
     "output_type": "display_data"
    },
    {
     "data": {
      "text/plain": [
       "{'subject': 'roomShare',\n",
       " 'flatMeterage': None,\n",
       " 'roomMeterage': None,\n",
       " 'rent': 350,\n",
       " 'bills': 100,\n",
       " 'deposit': 500,\n",
       " 'internetSpeed': None,\n",
       " 'district': None,\n",
       " 'street': 'Nowodworska',\n",
       " 'roomsCount': None,\n",
       " 'flatmatesCount': None,\n",
       " 'flatmatesGenders': None,\n",
       " 'flatmatesOccupation': None,\n",
       " 'preferredOccupation': None,\n",
       " 'preferredGender': None}"
      ]
     },
     "metadata": {},
     "output_type": "display_data"
    },
    {
     "data": {
      "text/plain": [
       "{'subject': 'room',\n",
       " 'flatMeterage': None,\n",
       " 'roomMeterage': None,\n",
       " 'rent': 785,\n",
       " 'bills': 0,\n",
       " 'deposit': 785,\n",
       " 'internetSpeed': None,\n",
       " 'district': None,\n",
       " 'street': 'Tyrmanda',\n",
       " 'roomsCount': 3,\n",
       " 'flatmatesCount': None,\n",
       " 'flatmatesGenders': None,\n",
       " 'flatmatesOccupation': None,\n",
       " 'preferredOccupation': None,\n",
       " 'preferredGender': None}"
      ]
     },
     "metadata": {},
     "output_type": "display_data"
    },
    {
     "data": {
      "text/plain": [
       "{'subject': 'roomShare',\n",
       " 'flatMeterage': None,\n",
       " 'roomMeterage': 20,\n",
       " 'rent': 1100,\n",
       " 'bills': None,\n",
       " 'deposit': None,\n",
       " 'internetSpeed': None,\n",
       " 'district': None,\n",
       " 'street': 'Wielka',\n",
       " 'roomsCount': 3,\n",
       " 'flatmatesCount': None,\n",
       " 'flatmatesGenders': None,\n",
       " 'flatmatesOccupation': None,\n",
       " 'preferredOccupation': None,\n",
       " 'preferredGender': None}"
      ]
     },
     "metadata": {},
     "output_type": "display_data"
    },
    {
     "data": {
      "text/plain": [
       "{'subject': 'roomShare',\n",
       " 'flatMeterage': None,\n",
       " 'roomMeterage': None,\n",
       " 'rent': 550,\n",
       " 'bills': 0,\n",
       " 'deposit': 550,\n",
       " 'internetSpeed': None,\n",
       " 'district': None,\n",
       " 'street': None,\n",
       " 'roomsCount': 3,\n",
       " 'flatmatesCount': None,\n",
       " 'flatmatesGenders': ['female', 'female', 'female', 'female'],\n",
       " 'flatmatesOccupation': None,\n",
       " 'preferredOccupation': None,\n",
       " 'preferredGender': 'female'}"
      ]
     },
     "metadata": {},
     "output_type": "display_data"
    },
    {
     "data": {
      "text/plain": [
       "{'subject': 'roomShare',\n",
       " 'flatMeterage': None,\n",
       " 'roomMeterage': 18,\n",
       " 'rent': 400,\n",
       " 'bills': 150,\n",
       " 'deposit': None,\n",
       " 'internetSpeed': 100,\n",
       " 'district': None,\n",
       " 'street': 'Radosna',\n",
       " 'roomsCount': 2,\n",
       " 'flatmatesCount': 2,\n",
       " 'flatmatesGenders': None,\n",
       " 'flatmatesOccupation': None,\n",
       " 'preferredOccupation': 'student',\n",
       " 'preferredGender': 'female'}"
      ]
     },
     "metadata": {},
     "output_type": "display_data"
    },
    {
     "data": {
      "text/plain": [
       "{'subject': 'room',\n",
       " 'flatMeterage': None,\n",
       " 'roomMeterage': 13,\n",
       " 'rent': None,\n",
       " 'bills': None,\n",
       " 'deposit': 800,\n",
       " 'internetSpeed': None,\n",
       " 'district': None,\n",
       " 'street': 'Zielińskiego',\n",
       " 'roomsCount': 2,\n",
       " 'flatmatesCount': 1,\n",
       " 'flatmatesGenders': ['female'],\n",
       " 'flatmatesOccupation': None,\n",
       " 'preferredOccupation': None,\n",
       " 'preferredGender': None}"
      ]
     },
     "metadata": {},
     "output_type": "display_data"
    },
    {
     "data": {
      "text/plain": [
       "{'subject': 'room',\n",
       " 'flatMeterage': None,\n",
       " 'roomMeterage': None,\n",
       " 'rent': None,\n",
       " 'bills': 150,\n",
       " 'deposit': 950,\n",
       " 'internetSpeed': 650,\n",
       " 'district': None,\n",
       " 'street': 'Krynicka',\n",
       " 'roomsCount': 3,\n",
       " 'flatmatesCount': None,\n",
       " 'flatmatesGenders': None,\n",
       " 'flatmatesOccupation': None,\n",
       " 'preferredOccupation': 'professional',\n",
       " 'preferredGender': None}"
      ]
     },
     "metadata": {},
     "output_type": "display_data"
    },
    {
     "data": {
      "text/plain": [
       "{'subject': 'roomShare',\n",
       " 'flatMeterage': 40,\n",
       " 'roomMeterage': None,\n",
       " 'rent': 530,\n",
       " 'bills': 0,\n",
       " 'deposit': 500,\n",
       " 'internetSpeed': None,\n",
       " 'district': None,\n",
       " 'street': 'Opolska',\n",
       " 'roomsCount': 2,\n",
       " 'flatmatesCount': None,\n",
       " 'flatmatesGenders': ['female', 'female'],\n",
       " 'flatmatesOccupation': None,\n",
       " 'preferredOccupation': None,\n",
       " 'preferredGender': 'female'}"
      ]
     },
     "metadata": {},
     "output_type": "display_data"
    },
    {
     "data": {
      "text/plain": [
       "{'subject': 'room',\n",
       " 'flatMeterage': None,\n",
       " 'roomMeterage': 30,\n",
       " 'rent': 800,\n",
       " 'bills': 400,\n",
       " 'deposit': None,\n",
       " 'internetSpeed': None,\n",
       " 'district': 'Strachocin',\n",
       " 'street': 'Niedziałkowskiego',\n",
       " 'roomsCount': 4,\n",
       " 'flatmatesCount': None,\n",
       " 'flatmatesGenders': None,\n",
       " 'flatmatesOccupation': None,\n",
       " 'preferredOccupation': None,\n",
       " 'preferredGender': None}"
      ]
     },
     "metadata": {},
     "output_type": "display_data"
    },
    {
     "data": {
      "text/plain": [
       "{'subject': 'room',\n",
       " 'flatMeterage': None,\n",
       " 'roomMeterage': None,\n",
       " 'rent': 850,\n",
       " 'bills': 150,\n",
       " 'deposit': 1000,\n",
       " 'internetSpeed': None,\n",
       " 'district': None,\n",
       " 'street': 'Wyszyńskiego',\n",
       " 'roomsCount': None,\n",
       " 'flatmatesCount': None,\n",
       " 'flatmatesGenders': None,\n",
       " 'flatmatesOccupation': None,\n",
       " 'preferredOccupation': None,\n",
       " 'preferredGender': None}"
      ]
     },
     "metadata": {},
     "output_type": "display_data"
    },
    {
     "data": {
      "text/plain": [
       "{'subject': 'room',\n",
       " 'flatMeterage': None,\n",
       " 'roomMeterage': 15,\n",
       " 'rent': 1050,\n",
       " 'bills': 0,\n",
       " 'deposit': 1000,\n",
       " 'internetSpeed': None,\n",
       " 'district': None,\n",
       " 'street': None,\n",
       " 'roomsCount': None,\n",
       " 'flatmatesCount': 1,\n",
       " 'flatmatesGenders': None,\n",
       " 'flatmatesOccupation': None,\n",
       " 'preferredOccupation': None,\n",
       " 'preferredGender': 'female'}"
      ]
     },
     "metadata": {},
     "output_type": "display_data"
    },
    {
     "data": {
      "text/plain": [
       "{'subject': 'room',\n",
       " 'flatMeterage': None,\n",
       " 'roomMeterage': 20,\n",
       " 'rent': 860,\n",
       " 'bills': 0,\n",
       " 'deposit': 700,\n",
       " 'internetSpeed': None,\n",
       " 'district': 'Krzyki',\n",
       " 'street': 'Skibowa',\n",
       " 'roomsCount': None,\n",
       " 'flatmatesCount': None,\n",
       " 'flatmatesGenders': None,\n",
       " 'flatmatesOccupation': None,\n",
       " 'preferredOccupation': None,\n",
       " 'preferredGender': None}"
      ]
     },
     "metadata": {},
     "output_type": "display_data"
    },
    {
     "data": {
      "text/plain": [
       "{'subject': 'room',\n",
       " 'flatMeterage': None,\n",
       " 'roomMeterage': 8,\n",
       " 'rent': 800,\n",
       " 'bills': 140,\n",
       " 'deposit': 940,\n",
       " 'internetSpeed': None,\n",
       " 'district': None,\n",
       " 'street': 'Wejherowska',\n",
       " 'roomsCount': None,\n",
       " 'flatmatesCount': None,\n",
       " 'flatmatesGenders': None,\n",
       " 'flatmatesOccupation': None,\n",
       " 'preferredOccupation': None,\n",
       " 'preferredGender': None}"
      ]
     },
     "metadata": {},
     "output_type": "display_data"
    },
    {
     "data": {
      "text/plain": [
       "{'subject': 'room',\n",
       " 'flatMeterage': None,\n",
       " 'roomMeterage': None,\n",
       " 'rent': 900,\n",
       " 'bills': 150,\n",
       " 'deposit': 1050,\n",
       " 'internetSpeed': None,\n",
       " 'district': None,\n",
       " 'street': 'Legnicka',\n",
       " 'roomsCount': 3,\n",
       " 'flatmatesCount': 2,\n",
       " 'flatmatesGenders': ['male', 'male'],\n",
       " 'flatmatesOccupation': None,\n",
       " 'preferredOccupation': None,\n",
       " 'preferredGender': None}"
      ]
     },
     "metadata": {},
     "output_type": "display_data"
    },
    {
     "data": {
      "text/plain": [
       "{'subject': 'room',\n",
       " 'flatMeterage': None,\n",
       " 'roomMeterage': 11,\n",
       " 'rent': 850,\n",
       " 'bills': 0,\n",
       " 'deposit': None,\n",
       " 'internetSpeed': None,\n",
       " 'district': None,\n",
       " 'street': 'Piłsudskiego',\n",
       " 'roomsCount': 2,\n",
       " 'flatmatesCount': None,\n",
       " 'flatmatesGenders': None,\n",
       " 'flatmatesOccupation': None,\n",
       " 'preferredOccupation': None,\n",
       " 'preferredGender': None}"
      ]
     },
     "metadata": {},
     "output_type": "display_data"
    },
    {
     "data": {
      "text/plain": [
       "{'subject': 'room',\n",
       " 'flatMeterage': None,\n",
       " 'roomMeterage': None,\n",
       " 'rent': 750,\n",
       " 'bills': 0,\n",
       " 'deposit': None,\n",
       " 'internetSpeed': None,\n",
       " 'district': None,\n",
       " 'street': 'Grabiszyńska',\n",
       " 'roomsCount': None,\n",
       " 'flatmatesCount': None,\n",
       " 'flatmatesGenders': None,\n",
       " 'flatmatesOccupation': None,\n",
       " 'preferredOccupation': None,\n",
       " 'preferredGender': None}"
      ]
     },
     "metadata": {},
     "output_type": "display_data"
    },
    {
     "data": {
      "text/plain": [
       "{'subject': 'room',\n",
       " 'flatMeterage': None,\n",
       " 'roomMeterage': None,\n",
       " 'rent': 500,\n",
       " 'bills': 100,\n",
       " 'deposit': None,\n",
       " 'internetSpeed': None,\n",
       " 'district': None,\n",
       " 'street': 'Papiernicza',\n",
       " 'roomsCount': None,\n",
       " 'flatmatesCount': None,\n",
       " 'flatmatesGenders': None,\n",
       " 'flatmatesOccupation': None,\n",
       " 'preferredOccupation': None,\n",
       " 'preferredGender': None}"
      ]
     },
     "metadata": {},
     "output_type": "display_data"
    },
    {
     "data": {
      "text/plain": [
       "{'subject': 'room',\n",
       " 'flatMeterage': None,\n",
       " 'roomMeterage': None,\n",
       " 'rent': None,\n",
       " 'bills': 70,\n",
       " 'deposit': None,\n",
       " 'internetSpeed': None,\n",
       " 'district': None,\n",
       " 'street': None,\n",
       " 'roomsCount': 3,\n",
       " 'flatmatesCount': None,\n",
       " 'flatmatesGenders': None,\n",
       " 'flatmatesOccupation': ['student', 'proffesional'],\n",
       " 'preferredOccupation': None,\n",
       " 'preferredGender': None}"
      ]
     },
     "metadata": {},
     "output_type": "display_data"
    },
    {
     "data": {
      "text/plain": [
       "{'subject': 'room',\n",
       " 'flatMeterage': None,\n",
       " 'roomMeterage': 20,\n",
       " 'rent': 1100,\n",
       " 'bills': 0,\n",
       " 'deposit': 1100,\n",
       " 'internetSpeed': None,\n",
       " 'district': None,\n",
       " 'street': 'Jesionowa',\n",
       " 'roomsCount': 3,\n",
       " 'flatmatesCount': None,\n",
       " 'flatmatesGenders': None,\n",
       " 'flatmatesOccupation': None,\n",
       " 'preferredOccupation': None,\n",
       " 'preferredGender': None}"
      ]
     },
     "metadata": {},
     "output_type": "display_data"
    },
    {
     "data": {
      "text/plain": [
       "{'subject': 'room',\n",
       " 'flatMeterage': None,\n",
       " 'roomMeterage': None,\n",
       " 'rent': 500,\n",
       " 'bills': 100,\n",
       " 'deposit': None,\n",
       " 'internetSpeed': None,\n",
       " 'district': None,\n",
       " 'street': 'Krucza',\n",
       " 'roomsCount': None,\n",
       " 'flatmatesCount': None,\n",
       " 'flatmatesGenders': None,\n",
       " 'flatmatesOccupation': None,\n",
       " 'preferredOccupation': None,\n",
       " 'preferredGender': None}"
      ]
     },
     "metadata": {},
     "output_type": "display_data"
    },
    {
     "data": {
      "text/plain": [
       "{'subject': 'room',\n",
       " 'flatMeterage': 51,\n",
       " 'roomMeterage': 12.5,\n",
       " 'rent': 1000,\n",
       " 'bills': 200,\n",
       " 'deposit': 1200,\n",
       " 'internetSpeed': None,\n",
       " 'district': 'Brochów',\n",
       " 'street': 'Mościckiego',\n",
       " 'roomsCount': 2,\n",
       " 'flatmatesCount': None,\n",
       " 'flatmatesGenders': None,\n",
       " 'flatmatesOccupation': None,\n",
       " 'preferredOccupation': None,\n",
       " 'preferredGender': None}"
      ]
     },
     "metadata": {},
     "output_type": "display_data"
    },
    {
     "data": {
      "text/plain": [
       "{'subject': 'room',\n",
       " 'flatMeterage': None,\n",
       " 'roomMeterage': None,\n",
       " 'rent': 850,\n",
       " 'bills': 0,\n",
       " 'deposit': None,\n",
       " 'internetSpeed': 700,\n",
       " 'district': 'Popowice',\n",
       " 'street': None,\n",
       " 'roomsCount': 3,\n",
       " 'flatmatesCount': None,\n",
       " 'flatmatesGenders': None,\n",
       " 'flatmatesOccupation': None,\n",
       " 'preferredOccupation': None,\n",
       " 'preferredGender': 'female'}"
      ]
     },
     "metadata": {},
     "output_type": "display_data"
    },
    {
     "data": {
      "text/plain": [
       "{'subject': 'room',\n",
       " 'flatMeterage': None,\n",
       " 'roomMeterage': None,\n",
       " 'rent': 800,\n",
       " 'bills': 100,\n",
       " 'deposit': 100,\n",
       " 'internetSpeed': None,\n",
       " 'district': None,\n",
       " 'street': 'Gajowicka',\n",
       " 'roomsCount': None,\n",
       " 'flatmatesCount': None,\n",
       " 'flatmatesGenders': None,\n",
       " 'flatmatesOccupation': None,\n",
       " 'preferredOccupation': None,\n",
       " 'preferredGender': None}"
      ]
     },
     "metadata": {},
     "output_type": "display_data"
    },
    {
     "data": {
      "text/plain": [
       "{'subject': 'room',\n",
       " 'flatMeterage': 72,\n",
       " 'roomMeterage': 15,\n",
       " 'rent': 600,\n",
       " 'bills': 250,\n",
       " 'deposit': 850,\n",
       " 'internetSpeed': None,\n",
       " 'district': None,\n",
       " 'street': 'Hermanowska',\n",
       " 'roomsCount': 4,\n",
       " 'flatmatesCount': None,\n",
       " 'flatmatesGenders': None,\n",
       " 'flatmatesOccupation': None,\n",
       " 'preferredOccupation': None,\n",
       " 'preferredGender': None}"
      ]
     },
     "metadata": {},
     "output_type": "display_data"
    },
    {
     "data": {
      "text/plain": [
       "{'subject': 'room',\n",
       " 'flatMeterage': None,\n",
       " 'roomMeterage': 18,\n",
       " 'rent': None,\n",
       " 'bills': None,\n",
       " 'deposit': None,\n",
       " 'internetSpeed': None,\n",
       " 'district': 'Krzyki',\n",
       " 'street': 'Róży Wiatrów',\n",
       " 'roomsCount': 4,\n",
       " 'flatmatesCount': None,\n",
       " 'flatmatesGenders': None,\n",
       " 'flatmatesOccupation': None,\n",
       " 'preferredOccupation': None,\n",
       " 'preferredGender': None}"
      ]
     },
     "metadata": {},
     "output_type": "display_data"
    },
    {
     "data": {
      "text/plain": [
       "{'subject': 'roomShare',\n",
       " 'flatMeterage': None,\n",
       " 'roomMeterage': None,\n",
       " 'rent': 550,\n",
       " 'bills': 0,\n",
       " 'deposit': 500,\n",
       " 'internetSpeed': None,\n",
       " 'district': None,\n",
       " 'street': 'Powstańców Śląskich',\n",
       " 'roomsCount': 2,\n",
       " 'flatmatesCount': 3,\n",
       " 'flatmatesGenders': ['female', 'female', 'female'],\n",
       " 'flatmatesOccupation': ['student'],\n",
       " 'preferredOccupation': None,\n",
       " 'preferredGender': 'female'}"
      ]
     },
     "metadata": {},
     "output_type": "display_data"
    },
    {
     "data": {
      "text/plain": [
       "{'subject': 'roomShare',\n",
       " 'flatMeterage': None,\n",
       " 'roomMeterage': None,\n",
       " 'rent': 480,\n",
       " 'bills': None,\n",
       " 'deposit': 480,\n",
       " 'internetSpeed': None,\n",
       " 'district': None,\n",
       " 'street': 'Grabiszyńska',\n",
       " 'roomsCount': None,\n",
       " 'flatmatesCount': 1,\n",
       " 'flatmatesGenders': ['female'],\n",
       " 'flatmatesOccupation': ['student'],\n",
       " 'preferredOccupation': 'student',\n",
       " 'preferredGender': 'female'}"
      ]
     },
     "metadata": {},
     "output_type": "display_data"
    },
    {
     "data": {
      "text/plain": [
       "{'subject': 'room',\n",
       " 'flatMeterage': None,\n",
       " 'roomMeterage': None,\n",
       " 'rent': None,\n",
       " 'bills': None,\n",
       " 'deposit': None,\n",
       " 'internetSpeed': None,\n",
       " 'district': None,\n",
       " 'street': 'Kuźnicza',\n",
       " 'roomsCount': 3,\n",
       " 'flatmatesCount': 2,\n",
       " 'flatmatesGenders': None,\n",
       " 'flatmatesOccupation': None,\n",
       " 'preferredOccupation': None,\n",
       " 'preferredGender': None}"
      ]
     },
     "metadata": {},
     "output_type": "display_data"
    },
    {
     "data": {
      "text/plain": [
       "{'subject': 'room',\n",
       " 'flatMeterage': None,\n",
       " 'roomMeterage': 14,\n",
       " 'rent': 600,\n",
       " 'bills': 150,\n",
       " 'deposit': 750,\n",
       " 'internetSpeed': None,\n",
       " 'district': 'Krzyki',\n",
       " 'street': 'Stysia',\n",
       " 'roomsCount': None,\n",
       " 'flatmatesCount': None,\n",
       " 'flatmatesGenders': None,\n",
       " 'flatmatesOccupation': None,\n",
       " 'preferredOccupation': None,\n",
       " 'preferredGender': None}"
      ]
     },
     "metadata": {},
     "output_type": "display_data"
    },
    {
     "data": {
      "text/plain": [
       "{'subject': 'roomShare',\n",
       " 'flatMeterage': None,\n",
       " 'roomMeterage': 20,\n",
       " 'rent': 650,\n",
       " 'bills': 120,\n",
       " 'deposit': None,\n",
       " 'internetSpeed': None,\n",
       " 'district': None,\n",
       " 'street': 'Sępa-Szarzyńskiego',\n",
       " 'roomsCount': 3,\n",
       " 'flatmatesCount': 3,\n",
       " 'flatmatesGenders': None,\n",
       " 'flatmatesOccupation': None,\n",
       " 'preferredOccupation': None,\n",
       " 'preferredGender': None}"
      ]
     },
     "metadata": {},
     "output_type": "display_data"
    },
    {
     "data": {
      "text/plain": [
       "{'subject': 'room',\n",
       " 'flatMeterage': None,\n",
       " 'roomMeterage': None,\n",
       " 'rent': 750,\n",
       " 'bills': 200,\n",
       " 'deposit': 750,\n",
       " 'internetSpeed': 100,\n",
       " 'district': None,\n",
       " 'street': 'Lwowska',\n",
       " 'roomsCount': 3,\n",
       " 'flatmatesCount': None,\n",
       " 'flatmatesGenders': None,\n",
       " 'flatmatesOccupation': None,\n",
       " 'preferredOccupation': None,\n",
       " 'preferredGender': None}"
      ]
     },
     "metadata": {},
     "output_type": "display_data"
    },
    {
     "data": {
      "text/plain": [
       "{'subject': 'roomShare',\n",
       " 'flatMeterage': 60,\n",
       " 'roomMeterage': 12,\n",
       " 'rent': 600,\n",
       " 'bills': 150,\n",
       " 'deposit': None,\n",
       " 'internetSpeed': None,\n",
       " 'district': 'Plac Grunwaldzki',\n",
       " 'street': 'Piastowska',\n",
       " 'roomsCount': 2,\n",
       " 'flatmatesCount': None,\n",
       " 'flatmatesGenders': None,\n",
       " 'flatmatesOccupation': None,\n",
       " 'preferredOccupation': None,\n",
       " 'preferredGender': None}"
      ]
     },
     "metadata": {},
     "output_type": "display_data"
    },
    {
     "data": {
      "text/plain": [
       "{'subject': 'room',\n",
       " 'flatMeterage': None,\n",
       " 'roomMeterage': 12,\n",
       " 'rent': 600,\n",
       " 'bills': 0,\n",
       " 'deposit': None,\n",
       " 'internetSpeed': None,\n",
       " 'district': 'Fabryczna',\n",
       " 'street': 'Balonowa',\n",
       " 'roomsCount': None,\n",
       " 'flatmatesCount': None,\n",
       " 'flatmatesGenders': None,\n",
       " 'flatmatesOccupation': None,\n",
       " 'preferredOccupation': None,\n",
       " 'preferredGender': 'female'}"
      ]
     },
     "metadata": {},
     "output_type": "display_data"
    },
    {
     "data": {
      "text/plain": [
       "{'subject': 'room',\n",
       " 'flatMeterage': None,\n",
       " 'roomMeterage': None,\n",
       " 'rent': 1100,\n",
       " 'bills': None,\n",
       " 'deposit': None,\n",
       " 'internetSpeed': None,\n",
       " 'district': None,\n",
       " 'street': 'Traugutta',\n",
       " 'roomsCount': 3,\n",
       " 'flatmatesCount': None,\n",
       " 'flatmatesGenders': None,\n",
       " 'flatmatesOccupation': None,\n",
       " 'preferredOccupation': None,\n",
       " 'preferredGender': None}"
      ]
     },
     "metadata": {},
     "output_type": "display_data"
    },
    {
     "data": {
      "text/plain": [
       "{'subject': 'room',\n",
       " 'flatMeterage': None,\n",
       " 'roomMeterage': None,\n",
       " 'rent': 650,\n",
       " 'bills': None,\n",
       " 'deposit': None,\n",
       " 'internetSpeed': None,\n",
       " 'district': 'Kuźniki',\n",
       " 'street': 'Dźwirzyńska',\n",
       " 'roomsCount': None,\n",
       " 'flatmatesCount': None,\n",
       " 'flatmatesGenders': None,\n",
       " 'flatmatesOccupation': None,\n",
       " 'preferredOccupation': None,\n",
       " 'preferredGender': None}"
      ]
     },
     "metadata": {},
     "output_type": "display_data"
    },
    {
     "data": {
      "text/plain": [
       "{'subject': 'room',\n",
       " 'flatMeterage': None,\n",
       " 'roomMeterage': None,\n",
       " 'rent': 800,\n",
       " 'bills': 0,\n",
       " 'deposit': None,\n",
       " 'internetSpeed': None,\n",
       " 'district': 'Gaj',\n",
       " 'street': 'Himalajska',\n",
       " 'roomsCount': 2,\n",
       " 'flatmatesCount': None,\n",
       " 'flatmatesGenders': None,\n",
       " 'flatmatesOccupation': None,\n",
       " 'preferredOccupation': 'professional',\n",
       " 'preferredGender': None}"
      ]
     },
     "metadata": {},
     "output_type": "display_data"
    },
    {
     "data": {
      "text/plain": [
       "{'subject': 'room',\n",
       " 'flatMeterage': 56,\n",
       " 'roomMeterage': 12,\n",
       " 'rent': 1200,\n",
       " 'bills': None,\n",
       " 'deposit': 1200,\n",
       " 'internetSpeed': None,\n",
       " 'district': 'Victoria',\n",
       " 'street': 'Tęczowa',\n",
       " 'roomsCount': 3,\n",
       " 'flatmatesCount': None,\n",
       " 'flatmatesGenders': None,\n",
       " 'flatmatesOccupation': None,\n",
       " 'preferredOccupation': None,\n",
       " 'preferredGender': None}"
      ]
     },
     "metadata": {},
     "output_type": "display_data"
    },
    {
     "data": {
      "text/plain": [
       "{'subject': 'room',\n",
       " 'flatMeterage': None,\n",
       " 'roomMeterage': 12,\n",
       " 'rent': 820,\n",
       " 'bills': 140,\n",
       " 'deposit': None,\n",
       " 'internetSpeed': 150,\n",
       " 'district': 'Muchobór Mały',\n",
       " 'street': None,\n",
       " 'roomsCount': None,\n",
       " 'flatmatesCount': None,\n",
       " 'flatmatesGenders': None,\n",
       " 'flatmatesOccupation': None,\n",
       " 'preferredOccupation': None,\n",
       " 'preferredGender': None}"
      ]
     },
     "metadata": {},
     "output_type": "display_data"
    },
    {
     "data": {
      "text/plain": [
       "{'subject': 'room',\n",
       " 'flatMeterage': None,\n",
       " 'roomMeterage': None,\n",
       " 'rent': 500,\n",
       " 'bills': 70,\n",
       " 'deposit': None,\n",
       " 'internetSpeed': None,\n",
       " 'district': None,\n",
       " 'street': 'Grodzka',\n",
       " 'roomsCount': None,\n",
       " 'flatmatesCount': None,\n",
       " 'flatmatesGenders': None,\n",
       " 'flatmatesOccupation': ['student', 'student'],\n",
       " 'preferredOccupation': None,\n",
       " 'preferredGender': None}"
      ]
     },
     "metadata": {},
     "output_type": "display_data"
    },
    {
     "data": {
      "text/plain": [
       "{'subject': 'room',\n",
       " 'flatMeterage': None,\n",
       " 'roomMeterage': 11,\n",
       " 'rent': 850,\n",
       " 'bills': 320,\n",
       " 'deposit': None,\n",
       " 'internetSpeed': None,\n",
       " 'district': None,\n",
       " 'street': 'Gliniana',\n",
       " 'roomsCount': None,\n",
       " 'flatmatesCount': None,\n",
       " 'flatmatesGenders': None,\n",
       " 'flatmatesOccupation': None,\n",
       " 'preferredOccupation': None,\n",
       " 'preferredGender': None}"
      ]
     },
     "metadata": {},
     "output_type": "display_data"
    },
    {
     "data": {
      "text/plain": [
       "{'subject': 'room',\n",
       " 'flatMeterage': None,\n",
       " 'roomMeterage': None,\n",
       " 'rent': 450,\n",
       " 'bills': 100,\n",
       " 'deposit': None,\n",
       " 'internetSpeed': None,\n",
       " 'district': None,\n",
       " 'street': 'Drzewieckiego',\n",
       " 'roomsCount': None,\n",
       " 'flatmatesCount': None,\n",
       " 'flatmatesGenders': None,\n",
       " 'flatmatesOccupation': None,\n",
       " 'preferredOccupation': None,\n",
       " 'preferredGender': None}"
      ]
     },
     "metadata": {},
     "output_type": "display_data"
    },
    {
     "data": {
      "text/plain": [
       "{'subject': 'room',\n",
       " 'flatMeterage': None,\n",
       " 'roomMeterage': None,\n",
       " 'rent': 900,\n",
       " 'bills': 100,\n",
       " 'deposit': 900,\n",
       " 'internetSpeed': 50,\n",
       " 'district': None,\n",
       " 'street': 'Śliczna',\n",
       " 'roomsCount': None,\n",
       " 'flatmatesCount': 2,\n",
       " 'flatmatesGenders': ['male', 'male'],\n",
       " 'flatmatesOccupation': None,\n",
       " 'preferredOccupation': None,\n",
       " 'preferredGender': None}"
      ]
     },
     "metadata": {},
     "output_type": "display_data"
    },
    {
     "data": {
      "text/plain": [
       "{'subject': 'room',\n",
       " 'flatMeterage': None,\n",
       " 'roomMeterage': None,\n",
       " 'rent': 700,\n",
       " 'bills': None,\n",
       " 'deposit': 400,\n",
       " 'internetSpeed': None,\n",
       " 'district': 'Jagodno',\n",
       " 'street': None,\n",
       " 'roomsCount': 3,\n",
       " 'flatmatesCount': 2,\n",
       " 'flatmatesGenders': None,\n",
       " 'flatmatesOccupation': ['proffesional', 'proffesional'],\n",
       " 'preferredOccupation': None,\n",
       " 'preferredGender': None}"
      ]
     },
     "metadata": {},
     "output_type": "display_data"
    },
    {
     "data": {
      "text/plain": [
       "{'subject': 'room',\n",
       " 'flatMeterage': None,\n",
       " 'roomMeterage': 14,\n",
       " 'rent': None,\n",
       " 'bills': 0,\n",
       " 'deposit': None,\n",
       " 'internetSpeed': 100,\n",
       " 'district': None,\n",
       " 'street': 'Sępia',\n",
       " 'roomsCount': None,\n",
       " 'flatmatesCount': None,\n",
       " 'flatmatesGenders': ['female', 'female'],\n",
       " 'flatmatesOccupation': ['student', 'student'],\n",
       " 'preferredOccupation': 'student',\n",
       " 'preferredGender': 'female'}"
      ]
     },
     "metadata": {},
     "output_type": "display_data"
    },
    {
     "data": {
      "text/plain": [
       "{'subject': 'room',\n",
       " 'flatMeterage': None,\n",
       " 'roomMeterage': None,\n",
       " 'rent': 1100,\n",
       " 'bills': 15,\n",
       " 'deposit': 1115,\n",
       " 'internetSpeed': None,\n",
       " 'district': None,\n",
       " 'street': 'Powstańców Śląskich',\n",
       " 'roomsCount': None,\n",
       " 'flatmatesCount': 2,\n",
       " 'flatmatesGenders': None,\n",
       " 'flatmatesOccupation': None,\n",
       " 'preferredOccupation': None,\n",
       " 'preferredGender': None}"
      ]
     },
     "metadata": {},
     "output_type": "display_data"
    },
    {
     "data": {
      "text/plain": [
       "{'subject': 'room',\n",
       " 'flatMeterage': None,\n",
       " 'roomMeterage': None,\n",
       " 'rent': 950,\n",
       " 'bills': 130,\n",
       " 'deposit': None,\n",
       " 'internetSpeed': 300,\n",
       " 'district': 'Krzyki',\n",
       " 'street': 'Jastrzębia',\n",
       " 'roomsCount': 2,\n",
       " 'flatmatesCount': None,\n",
       " 'flatmatesGenders': None,\n",
       " 'flatmatesOccupation': None,\n",
       " 'preferredOccupation': None,\n",
       " 'preferredGender': None}"
      ]
     },
     "metadata": {},
     "output_type": "display_data"
    },
    {
     "data": {
      "text/plain": [
       "{'subject': 'room',\n",
       " 'flatMeterage': None,\n",
       " 'roomMeterage': None,\n",
       " 'rent': 500,\n",
       " 'bills': 150,\n",
       " 'deposit': 350,\n",
       " 'internetSpeed': None,\n",
       " 'district': 'Karłowice',\n",
       " 'street': 'Czajkowskiego',\n",
       " 'roomsCount': 3,\n",
       " 'flatmatesCount': None,\n",
       " 'flatmatesGenders': None,\n",
       " 'flatmatesOccupation': None,\n",
       " 'preferredOccupation': None,\n",
       " 'preferredGender': None}"
      ]
     },
     "metadata": {},
     "output_type": "display_data"
    },
    {
     "data": {
      "text/plain": [
       "{'subject': 'room',\n",
       " 'flatMeterage': None,\n",
       " 'roomMeterage': None,\n",
       " 'rent': 500,\n",
       " 'bills': 100,\n",
       " 'deposit': None,\n",
       " 'internetSpeed': None,\n",
       " 'district': 'Psie Pole',\n",
       " 'street': 'Milicka',\n",
       " 'roomsCount': None,\n",
       " 'flatmatesCount': None,\n",
       " 'flatmatesGenders': None,\n",
       " 'flatmatesOccupation': None,\n",
       " 'preferredOccupation': None,\n",
       " 'preferredGender': None}"
      ]
     },
     "metadata": {},
     "output_type": "display_data"
    },
    {
     "data": {
      "text/plain": [
       "{'subject': 'roomShare',\n",
       " 'flatMeterage': None,\n",
       " 'roomMeterage': 24,\n",
       " 'rent': 600,\n",
       " 'bills': 100,\n",
       " 'deposit': None,\n",
       " 'internetSpeed': None,\n",
       " 'district': None,\n",
       " 'street': 'Hauke Bosaka',\n",
       " 'roomsCount': None,\n",
       " 'flatmatesCount': None,\n",
       " 'flatmatesGenders': None,\n",
       " 'flatmatesOccupation': None,\n",
       " 'preferredOccupation': None,\n",
       " 'preferredGender': None}"
      ]
     },
     "metadata": {},
     "output_type": "display_data"
    },
    {
     "data": {
      "text/plain": [
       "{'subject': 'roomShare',\n",
       " 'flatMeterage': None,\n",
       " 'roomMeterage': None,\n",
       " 'rent': 500,\n",
       " 'bills': 150,\n",
       " 'deposit': None,\n",
       " 'internetSpeed': None,\n",
       " 'district': None,\n",
       " 'street': 'Minkowskiego',\n",
       " 'roomsCount': 3,\n",
       " 'flatmatesCount': 3,\n",
       " 'flatmatesGenders': ['female'],\n",
       " 'flatmatesOccupation': ['studnet/proffesional',\n",
       "  'studnet/proffesional',\n",
       "  'studnet/proffesional'],\n",
       " 'preferredOccupation': None,\n",
       " 'preferredGender': None}"
      ]
     },
     "metadata": {},
     "output_type": "display_data"
    },
    {
     "data": {
      "text/plain": [
       "{'subject': 'room',\n",
       " 'flatMeterage': None,\n",
       " 'roomMeterage': None,\n",
       " 'rent': 800,\n",
       " 'bills': None,\n",
       " 'deposit': None,\n",
       " 'internetSpeed': None,\n",
       " 'district': None,\n",
       " 'street': 'Zaporowska',\n",
       " 'roomsCount': 3,\n",
       " 'flatmatesCount': None,\n",
       " 'flatmatesGenders': None,\n",
       " 'flatmatesOccupation': None,\n",
       " 'preferredOccupation': None,\n",
       " 'preferredGender': None}"
      ]
     },
     "metadata": {},
     "output_type": "display_data"
    },
    {
     "data": {
      "text/plain": [
       "{'subject': 'room',\n",
       " 'flatMeterage': 44,\n",
       " 'roomMeterage': 12,\n",
       " 'rent': 800,\n",
       " 'bills': 150,\n",
       " 'deposit': 950,\n",
       " 'internetSpeed': None,\n",
       " 'district': 'Jagodno',\n",
       " 'street': 'Ekspresowa',\n",
       " 'roomsCount': 2,\n",
       " 'flatmatesCount': 1,\n",
       " 'flatmatesGenders': None,\n",
       " 'flatmatesOccupation': None,\n",
       " 'preferredOccupation': None,\n",
       " 'preferredGender': None}"
      ]
     },
     "metadata": {},
     "output_type": "display_data"
    },
    {
     "data": {
      "text/plain": [
       "{'subject': 'room',\n",
       " 'flatMeterage': None,\n",
       " 'roomMeterage': None,\n",
       " 'rent': 550,\n",
       " 'bills': 200,\n",
       " 'deposit': None,\n",
       " 'internetSpeed': None,\n",
       " 'district': None,\n",
       " 'street': 'Wieniawskiego',\n",
       " 'roomsCount': None,\n",
       " 'flatmatesCount': None,\n",
       " 'flatmatesGenders': None,\n",
       " 'flatmatesOccupation': None,\n",
       " 'preferredOccupation': None,\n",
       " 'preferredGender': None}"
      ]
     },
     "metadata": {},
     "output_type": "display_data"
    },
    {
     "data": {
      "text/plain": [
       "{'subject': 'room',\n",
       " 'flatMeterage': None,\n",
       " 'roomMeterage': None,\n",
       " 'rent': 700,\n",
       " 'bills': 0,\n",
       " 'deposit': 0,\n",
       " 'internetSpeed': None,\n",
       " 'district': 'Karłowice',\n",
       " 'street': 'Filomatów',\n",
       " 'roomsCount': None,\n",
       " 'flatmatesCount': None,\n",
       " 'flatmatesGenders': None,\n",
       " 'flatmatesOccupation': None,\n",
       " 'preferredOccupation': None,\n",
       " 'preferredGender': None}"
      ]
     },
     "metadata": {},
     "output_type": "display_data"
    },
    {
     "data": {
      "text/plain": [
       "{'subject': 'room',\n",
       " 'flatMeterage': None,\n",
       " 'roomMeterage': 6,\n",
       " 'rent': 650,\n",
       " 'bills': 125,\n",
       " 'deposit': 700,\n",
       " 'internetSpeed': 300,\n",
       " 'district': 'Ołbin',\n",
       " 'street': 'Barlickiego',\n",
       " 'roomsCount': 3,\n",
       " 'flatmatesCount': None,\n",
       " 'flatmatesGenders': None,\n",
       " 'flatmatesOccupation': None,\n",
       " 'preferredOccupation': 'student',\n",
       " 'preferredGender': None}"
      ]
     },
     "metadata": {},
     "output_type": "display_data"
    },
    {
     "data": {
      "text/plain": [
       "{'subject': 'room',\n",
       " 'flatMeterage': None,\n",
       " 'roomMeterage': None,\n",
       " 'rent': 670,\n",
       " 'bills': 70,\n",
       " 'deposit': 500,\n",
       " 'internetSpeed': None,\n",
       " 'district': None,\n",
       " 'street': 'Piękna',\n",
       " 'roomsCount': 3,\n",
       " 'flatmatesCount': None,\n",
       " 'flatmatesGenders': None,\n",
       " 'flatmatesOccupation': None,\n",
       " 'preferredOccupation': 'professional',\n",
       " 'preferredGender': 'female'}"
      ]
     },
     "metadata": {},
     "output_type": "display_data"
    },
    {
     "data": {
      "text/plain": [
       "{'subject': 'room',\n",
       " 'flatMeterage': None,\n",
       " 'roomMeterage': 12,\n",
       " 'rent': 800,\n",
       " 'bills': 0,\n",
       " 'deposit': 800,\n",
       " 'internetSpeed': 10,\n",
       " 'district': None,\n",
       " 'street': 'Agrestowa',\n",
       " 'roomsCount': 4,\n",
       " 'flatmatesCount': None,\n",
       " 'flatmatesGenders': None,\n",
       " 'flatmatesOccupation': None,\n",
       " 'preferredOccupation': 'professional',\n",
       " 'preferredGender': None}"
      ]
     },
     "metadata": {},
     "output_type": "display_data"
    },
    {
     "data": {
      "text/plain": [
       "{'subject': 'roomShare',\n",
       " 'flatMeterage': None,\n",
       " 'roomMeterage': 20,\n",
       " 'rent': 1200,\n",
       " 'bills': None,\n",
       " 'deposit': None,\n",
       " 'internetSpeed': None,\n",
       " 'district': None,\n",
       " 'street': 'Wielka',\n",
       " 'roomsCount': 3,\n",
       " 'flatmatesCount': None,\n",
       " 'flatmatesGenders': None,\n",
       " 'flatmatesOccupation': None,\n",
       " 'preferredOccupation': None,\n",
       " 'preferredGender': None}"
      ]
     },
     "metadata": {},
     "output_type": "display_data"
    },
    {
     "data": {
      "text/plain": [
       "{'subject': 'room',\n",
       " 'flatMeterage': None,\n",
       " 'roomMeterage': None,\n",
       " 'rent': None,\n",
       " 'bills': 0,\n",
       " 'deposit': 500,\n",
       " 'internetSpeed': None,\n",
       " 'district': 'Kuźniki',\n",
       " 'street': 'Sarbinowska',\n",
       " 'roomsCount': 2,\n",
       " 'flatmatesCount': 1,\n",
       " 'flatmatesGenders': None,\n",
       " 'flatmatesOccupation': None,\n",
       " 'preferredOccupation': None,\n",
       " 'preferredGender': 'female'}"
      ]
     },
     "metadata": {},
     "output_type": "display_data"
    },
    {
     "data": {
      "text/plain": [
       "{'subject': 'room',\n",
       " 'flatMeterage': None,\n",
       " 'roomMeterage': None,\n",
       " 'rent': 800,\n",
       " 'bills': None,\n",
       " 'deposit': None,\n",
       " 'internetSpeed': None,\n",
       " 'district': None,\n",
       " 'street': 'Zaporowska',\n",
       " 'roomsCount': 3,\n",
       " 'flatmatesCount': None,\n",
       " 'flatmatesGenders': None,\n",
       " 'flatmatesOccupation': None,\n",
       " 'preferredOccupation': None,\n",
       " 'preferredGender': None}"
      ]
     },
     "metadata": {},
     "output_type": "display_data"
    },
    {
     "data": {
      "text/plain": [
       "{'subject': 'room',\n",
       " 'flatMeterage': None,\n",
       " 'roomMeterage': 10,\n",
       " 'rent': 750,\n",
       " 'bills': 200,\n",
       " 'deposit': None,\n",
       " 'internetSpeed': None,\n",
       " 'district': None,\n",
       " 'street': 'Krynicka',\n",
       " 'roomsCount': None,\n",
       " 'flatmatesCount': None,\n",
       " 'flatmatesGenders': None,\n",
       " 'flatmatesOccupation': None,\n",
       " 'preferredOccupation': None,\n",
       " 'preferredGender': None}"
      ]
     },
     "metadata": {},
     "output_type": "display_data"
    },
    {
     "data": {
      "text/plain": [
       "{'subject': 'room',\n",
       " 'flatMeterage': None,\n",
       " 'roomMeterage': 13,\n",
       " 'rent': 700,\n",
       " 'bills': 50,\n",
       " 'deposit': 800,\n",
       " 'internetSpeed': None,\n",
       " 'district': None,\n",
       " 'street': 'Zielińskiego',\n",
       " 'roomsCount': 2,\n",
       " 'flatmatesCount': 1,\n",
       " 'flatmatesGenders': ['female'],\n",
       " 'flatmatesOccupation': None,\n",
       " 'preferredOccupation': None,\n",
       " 'preferredGender': None}"
      ]
     },
     "metadata": {},
     "output_type": "display_data"
    },
    {
     "data": {
      "text/plain": [
       "{'subject': 'room',\n",
       " 'flatMeterage': None,\n",
       " 'roomMeterage': None,\n",
       " 'rent': 650,\n",
       " 'bills': 220,\n",
       " 'deposit': 870,\n",
       " 'internetSpeed': None,\n",
       " 'district': None,\n",
       " 'street': 'Zaporoska',\n",
       " 'roomsCount': 3,\n",
       " 'flatmatesCount': None,\n",
       " 'flatmatesGenders': None,\n",
       " 'flatmatesOccupation': ['student'],\n",
       " 'preferredOccupation': None,\n",
       " 'preferredGender': None}"
      ]
     },
     "metadata": {},
     "output_type": "display_data"
    },
    {
     "data": {
      "text/plain": [
       "{'subject': 'room',\n",
       " 'flatMeterage': None,\n",
       " 'roomMeterage': None,\n",
       " 'rent': 820,\n",
       " 'bills': 60,\n",
       " 'deposit': 850,\n",
       " 'internetSpeed': None,\n",
       " 'district': None,\n",
       " 'street': 'Tyrmandra',\n",
       " 'roomsCount': 3,\n",
       " 'flatmatesCount': 3,\n",
       " 'flatmatesGenders': None,\n",
       " 'flatmatesOccupation': None,\n",
       " 'preferredOccupation': None,\n",
       " 'preferredGender': None}"
      ]
     },
     "metadata": {},
     "output_type": "display_data"
    },
    {
     "data": {
      "text/plain": [
       "{'subject': 'room',\n",
       " 'flatMeterage': None,\n",
       " 'roomMeterage': None,\n",
       " 'rent': None,\n",
       " 'bills': None,\n",
       " 'deposit': None,\n",
       " 'internetSpeed': None,\n",
       " 'district': None,\n",
       " 'street': 'Zielińskiego',\n",
       " 'roomsCount': None,\n",
       " 'flatmatesCount': None,\n",
       " 'flatmatesGenders': None,\n",
       " 'flatmatesOccupation': None,\n",
       " 'preferredOccupation': None,\n",
       " 'preferredGender': None}"
      ]
     },
     "metadata": {},
     "output_type": "display_data"
    },
    {
     "data": {
      "text/plain": [
       "{'subject': 'room',\n",
       " 'flatMeterage': None,\n",
       " 'roomMeterage': None,\n",
       " 'rent': 700,\n",
       " 'bills': 200,\n",
       " 'deposit': 900,\n",
       " 'internetSpeed': None,\n",
       " 'district': 'Gądów Mały',\n",
       " 'street': 'Bajana',\n",
       " 'roomsCount': 3,\n",
       " 'flatmatesCount': None,\n",
       " 'flatmatesGenders': None,\n",
       " 'flatmatesOccupation': None,\n",
       " 'preferredOccupation': None,\n",
       " 'preferredGender': None}"
      ]
     },
     "metadata": {},
     "output_type": "display_data"
    },
    {
     "data": {
      "text/plain": [
       "{'subject': 'roomShare',\n",
       " 'flatMeterage': None,\n",
       " 'roomMeterage': 20,\n",
       " 'rent': 700,\n",
       " 'bills': 50,\n",
       " 'deposit': 750,\n",
       " 'internetSpeed': None,\n",
       " 'district': 'Fabryczna',\n",
       " 'street': 'Wojrowicka',\n",
       " 'roomsCount': None,\n",
       " 'flatmatesCount': None,\n",
       " 'flatmatesGenders': None,\n",
       " 'flatmatesOccupation': None,\n",
       " 'preferredOccupation': None,\n",
       " 'preferredGender': None}"
      ]
     },
     "metadata": {},
     "output_type": "display_data"
    },
    {
     "data": {
      "text/plain": [
       "{'subject': 'room',\n",
       " 'flatMeterage': None,\n",
       " 'roomMeterage': 11,\n",
       " 'rent': 900,\n",
       " 'bills': 0,\n",
       " 'deposit': None,\n",
       " 'internetSpeed': None,\n",
       " 'district': None,\n",
       " 'street': 'Pereca',\n",
       " 'roomsCount': 3,\n",
       " 'flatmatesCount': 2,\n",
       " 'flatmatesGenders': ['female', 'female'],\n",
       " 'flatmatesOccupation': ['student', 'proffesional'],\n",
       " 'preferredOccupation': None,\n",
       " 'preferredGender': None}"
      ]
     },
     "metadata": {},
     "output_type": "display_data"
    },
    {
     "data": {
      "text/plain": [
       "{'subject': 'room',\n",
       " 'flatMeterage': None,\n",
       " 'roomMeterage': None,\n",
       " 'rent': 700,\n",
       " 'bills': 170,\n",
       " 'deposit': None,\n",
       " 'internetSpeed': None,\n",
       " 'district': 'Gaj',\n",
       " 'street': 'Krynicka',\n",
       " 'roomsCount': None,\n",
       " 'flatmatesCount': None,\n",
       " 'flatmatesGenders': None,\n",
       " 'flatmatesOccupation': None,\n",
       " 'preferredOccupation': None,\n",
       " 'preferredGender': None}"
      ]
     },
     "metadata": {},
     "output_type": "display_data"
    },
    {
     "data": {
      "text/plain": [
       "{'subject': 'room',\n",
       " 'flatMeterage': None,\n",
       " 'roomMeterage': None,\n",
       " 'rent': 750,\n",
       " 'bills': 0,\n",
       " 'deposit': None,\n",
       " 'internetSpeed': None,\n",
       " 'district': 'Nowy Dwór',\n",
       " 'street': 'Rogowska',\n",
       " 'roomsCount': 3,\n",
       " 'flatmatesCount': 2,\n",
       " 'flatmatesGenders': ['female', 'female'],\n",
       " 'flatmatesOccupation': ['proffesional', 'proffesional'],\n",
       " 'preferredOccupation': None,\n",
       " 'preferredGender': None}"
      ]
     },
     "metadata": {},
     "output_type": "display_data"
    },
    {
     "data": {
      "text/plain": [
       "{'subject': 'room',\n",
       " 'flatMeterage': None,\n",
       " 'roomMeterage': None,\n",
       " 'rent': 1000,\n",
       " 'bills': None,\n",
       " 'deposit': None,\n",
       " 'internetSpeed': None,\n",
       " 'district': None,\n",
       " 'street': None,\n",
       " 'roomsCount': None,\n",
       " 'flatmatesCount': 2,\n",
       " 'flatmatesGenders': ['male', 'female'],\n",
       " 'flatmatesOccupation': ['proffesional', 'proffesional'],\n",
       " 'preferredOccupation': None,\n",
       " 'preferredGender': None}"
      ]
     },
     "metadata": {},
     "output_type": "display_data"
    },
    {
     "data": {
      "text/plain": [
       "{'subject': 'room',\n",
       " 'flatMeterage': None,\n",
       " 'roomMeterage': None,\n",
       " 'rent': 800,\n",
       " 'bills': 0,\n",
       " 'deposit': 800,\n",
       " 'internetSpeed': None,\n",
       " 'district': None,\n",
       " 'street': 'Inowrocławska',\n",
       " 'roomsCount': None,\n",
       " 'flatmatesCount': 2,\n",
       " 'flatmatesGenders': ['female', 'female'],\n",
       " 'flatmatesOccupation': ['proffesional', 'proffesional'],\n",
       " 'preferredOccupation': 'professional',\n",
       " 'preferredGender': 'female'}"
      ]
     },
     "metadata": {},
     "output_type": "display_data"
    },
    {
     "data": {
      "text/plain": [
       "{'subject': 'roomShare',\n",
       " 'flatMeterage': 65,\n",
       " 'roomMeterage': 20,\n",
       " 'rent': 1300,\n",
       " 'bills': 0,\n",
       " 'deposit': 1300,\n",
       " 'internetSpeed': 300,\n",
       " 'district': None,\n",
       " 'street': 'Drzewieckiego',\n",
       " 'roomsCount': 3,\n",
       " 'flatmatesCount': None,\n",
       " 'flatmatesGenders': None,\n",
       " 'flatmatesOccupation': None,\n",
       " 'preferredOccupation': None,\n",
       " 'preferredGender': None}"
      ]
     },
     "metadata": {},
     "output_type": "display_data"
    },
    {
     "data": {
      "text/plain": [
       "{'subject': 'room',\n",
       " 'flatMeterage': None,\n",
       " 'roomMeterage': None,\n",
       " 'rent': 750,\n",
       " 'bills': 0,\n",
       " 'deposit': None,\n",
       " 'internetSpeed': None,\n",
       " 'district': None,\n",
       " 'street': 'Na Ostatnim Groszu',\n",
       " 'roomsCount': None,\n",
       " 'flatmatesCount': None,\n",
       " 'flatmatesGenders': None,\n",
       " 'flatmatesOccupation': None,\n",
       " 'preferredOccupation': None,\n",
       " 'preferredGender': None}"
      ]
     },
     "metadata": {},
     "output_type": "display_data"
    },
    {
     "data": {
      "text/plain": [
       "{'subject': 'room',\n",
       " 'flatMeterage': None,\n",
       " 'roomMeterage': None,\n",
       " 'rent': 1200,\n",
       " 'bills': 0,\n",
       " 'deposit': None,\n",
       " 'internetSpeed': None,\n",
       " 'district': 'Nadodrze',\n",
       " 'street': None,\n",
       " 'roomsCount': 2,\n",
       " 'flatmatesCount': 2,\n",
       " 'flatmatesGenders': ['female', 'female'],\n",
       " 'flatmatesOccupation': ['student'],\n",
       " 'preferredOccupation': None,\n",
       " 'preferredGender': None}"
      ]
     },
     "metadata": {},
     "output_type": "display_data"
    },
    {
     "data": {
      "text/plain": [
       "{'subject': 'room',\n",
       " 'flatMeterage': None,\n",
       " 'roomMeterage': None,\n",
       " 'rent': 750,\n",
       " 'bills': 100,\n",
       " 'deposit': 1000,\n",
       " 'internetSpeed': None,\n",
       " 'district': None,\n",
       " 'street': 'Piastowska',\n",
       " 'roomsCount': None,\n",
       " 'flatmatesCount': None,\n",
       " 'flatmatesGenders': None,\n",
       " 'flatmatesOccupation': None,\n",
       " 'preferredOccupation': None,\n",
       " 'preferredGender': None}"
      ]
     },
     "metadata": {},
     "output_type": "display_data"
    },
    {
     "data": {
      "text/plain": [
       "{'subject': 'room',\n",
       " 'flatMeterage': None,\n",
       " 'roomMeterage': 14,\n",
       " 'rent': 950,\n",
       " 'bills': 0,\n",
       " 'deposit': None,\n",
       " 'internetSpeed': None,\n",
       " 'district': 'Gajowice',\n",
       " 'street': 'Manganowa',\n",
       " 'roomsCount': 2,\n",
       " 'flatmatesCount': 1,\n",
       " 'flatmatesGenders': ['female'],\n",
       " 'flatmatesOccupation': 'proffesional',\n",
       " 'preferredOccupation': None,\n",
       " 'preferredGender': None}"
      ]
     },
     "metadata": {},
     "output_type": "display_data"
    },
    {
     "data": {
      "text/plain": [
       "{'subject': 'roomShare',\n",
       " 'flatMeterage': None,\n",
       " 'roomMeterage': None,\n",
       " 'rent': None,\n",
       " 'bills': 0,\n",
       " 'deposit': None,\n",
       " 'internetSpeed': None,\n",
       " 'district': 'Sępolno',\n",
       " 'street': 'Mislawskiego',\n",
       " 'roomsCount': None,\n",
       " 'flatmatesCount': None,\n",
       " 'flatmatesGenders': ['female'],\n",
       " 'flatmatesOccupation': ['student'],\n",
       " 'preferredOccupation': None,\n",
       " 'preferredGender': 'female'}"
      ]
     },
     "metadata": {},
     "output_type": "display_data"
    },
    {
     "data": {
      "text/plain": [
       "{'subject': 'room',\n",
       " 'flatMeterage': None,\n",
       " 'roomMeterage': None,\n",
       " 'rent': 700,\n",
       " 'bills': 170,\n",
       " 'deposit': None,\n",
       " 'internetSpeed': 50,\n",
       " 'district': None,\n",
       " 'street': 'Lubuska',\n",
       " 'roomsCount': None,\n",
       " 'flatmatesCount': None,\n",
       " 'flatmatesGenders': None,\n",
       " 'flatmatesOccupation': None,\n",
       " 'preferredOccupation': None,\n",
       " 'preferredGender': None}"
      ]
     },
     "metadata": {},
     "output_type": "display_data"
    },
    {
     "data": {
      "text/plain": [
       "{'subject': 'room',\n",
       " 'flatMeterage': None,\n",
       " 'roomMeterage': None,\n",
       " 'rent': 700,\n",
       " 'bills': 50,\n",
       " 'deposit': 700,\n",
       " 'internetSpeed': None,\n",
       " 'district': None,\n",
       " 'street': 'Wieczysta',\n",
       " 'roomsCount': 3,\n",
       " 'flatmatesCount': 3,\n",
       " 'flatmatesGenders': ['female', 'female', 'male'],\n",
       " 'flatmatesOccupation': ['student'],\n",
       " 'preferredOccupation': None,\n",
       " 'preferredGender': None}"
      ]
     },
     "metadata": {},
     "output_type": "display_data"
    },
    {
     "data": {
      "text/plain": [
       "{'subject': 'room',\n",
       " 'flatMeterage': 75,\n",
       " 'roomMeterage': 11,\n",
       " 'rent': 900,\n",
       " 'bills': 200,\n",
       " 'deposit': None,\n",
       " 'internetSpeed': None,\n",
       " 'district': None,\n",
       " 'street': 'Nyska',\n",
       " 'roomsCount': 3,\n",
       " 'flatmatesCount': None,\n",
       " 'flatmatesGenders': None,\n",
       " 'flatmatesOccupation': None,\n",
       " 'preferredOccupation': None,\n",
       " 'preferredGender': None}"
      ]
     },
     "metadata": {},
     "output_type": "display_data"
    },
    {
     "data": {
      "text/plain": [
       "{'subject': 'room',\n",
       " 'flatMeterage': None,\n",
       " 'roomMeterage': None,\n",
       " 'rent': 750,\n",
       " 'bills': 55,\n",
       " 'deposit': 750,\n",
       " 'internetSpeed': None,\n",
       " 'district': None,\n",
       " 'street': 'Spiżowa',\n",
       " 'roomsCount': 3,\n",
       " 'flatmatesCount': 2,\n",
       " 'flatmatesGenders': ['female', 'female'],\n",
       " 'flatmatesOccupation': ['proffesional', 'proffesional'],\n",
       " 'preferredOccupation': 'professional',\n",
       " 'preferredGender': None}"
      ]
     },
     "metadata": {},
     "output_type": "display_data"
    },
    {
     "data": {
      "text/plain": [
       "{'subject': 'roomShare',\n",
       " 'flatMeterage': 90,\n",
       " 'roomMeterage': None,\n",
       " 'rent': 675,\n",
       " 'bills': 100,\n",
       " 'deposit': None,\n",
       " 'internetSpeed': None,\n",
       " 'district': None,\n",
       " 'street': None,\n",
       " 'roomsCount': 3,\n",
       " 'flatmatesCount': 5,\n",
       " 'flatmatesGenders': ['male', 'female', 'female', 'female', 'female'],\n",
       " 'flatmatesOccupation': None,\n",
       " 'preferredOccupation': None,\n",
       " 'preferredGender': None}"
      ]
     },
     "metadata": {},
     "output_type": "display_data"
    },
    {
     "data": {
      "text/plain": [
       "{'subject': 'room',\n",
       " 'flatMeterage': None,\n",
       " 'roomMeterage': None,\n",
       " 'rent': 750,\n",
       " 'bills': 100,\n",
       " 'deposit': 800,\n",
       " 'internetSpeed': None,\n",
       " 'district': 'Śródmieście',\n",
       " 'street': 'Wyszyńskiego',\n",
       " 'roomsCount': 4,\n",
       " 'flatmatesCount': 3,\n",
       " 'flatmatesGenders': None,\n",
       " 'flatmatesOccupation': None,\n",
       " 'preferredOccupation': None,\n",
       " 'preferredGender': None}"
      ]
     },
     "metadata": {},
     "output_type": "display_data"
    },
    {
     "data": {
      "text/plain": [
       "{'subject': 'room',\n",
       " 'flatMeterage': 51,\n",
       " 'roomMeterage': None,\n",
       " 'rent': 850,\n",
       " 'bills': 0,\n",
       " 'deposit': 850,\n",
       " 'internetSpeed': None,\n",
       " 'district': None,\n",
       " 'street': 'Mościckiego',\n",
       " 'roomsCount': 2,\n",
       " 'flatmatesCount': None,\n",
       " 'flatmatesGenders': None,\n",
       " 'flatmatesOccupation': None,\n",
       " 'preferredOccupation': None,\n",
       " 'preferredGender': None}"
      ]
     },
     "metadata": {},
     "output_type": "display_data"
    },
    {
     "data": {
      "text/plain": [
       "{'subject': 'room',\n",
       " 'flatMeterage': None,\n",
       " 'roomMeterage': None,\n",
       " 'rent': None,\n",
       " 'bills': '20',\n",
       " 'deposit': None,\n",
       " 'internetSpeed': None,\n",
       " 'district': 'Sun House',\n",
       " 'street': 'Kleczkowska',\n",
       " 'roomsCount': None,\n",
       " 'flatmatesCount': 1,\n",
       " 'flatmatesGenders': ['female'],\n",
       " 'flatmatesOccupation': ['student'],\n",
       " 'preferredOccupation': None,\n",
       " 'preferredGender': None}"
      ]
     },
     "metadata": {},
     "output_type": "display_data"
    },
    {
     "data": {
      "text/plain": [
       "{'subject': 'room',\n",
       " 'flatMeterage': None,\n",
       " 'roomMeterage': None,\n",
       " 'rent': 800,\n",
       " 'bills': 170,\n",
       " 'deposit': None,\n",
       " 'internetSpeed': None,\n",
       " 'district': None,\n",
       " 'street': 'Wielka',\n",
       " 'roomsCount': 3,\n",
       " 'flatmatesCount': None,\n",
       " 'flatmatesGenders': None,\n",
       " 'flatmatesOccupation': None,\n",
       " 'preferredOccupation': 'professional',\n",
       " 'preferredGender': None}"
      ]
     },
     "metadata": {},
     "output_type": "display_data"
    },
    {
     "data": {
      "text/plain": [
       "{'subject': 'room',\n",
       " 'flatMeterage': 72,\n",
       " 'roomMeterage': 15,\n",
       " 'rent': 600,\n",
       " 'bills': 250,\n",
       " 'deposit': 600,\n",
       " 'internetSpeed': None,\n",
       " 'district': None,\n",
       " 'street': 'Hermanowska',\n",
       " 'roomsCount': 4,\n",
       " 'flatmatesCount': None,\n",
       " 'flatmatesGenders': None,\n",
       " 'flatmatesOccupation': None,\n",
       " 'preferredOccupation': None,\n",
       " 'preferredGender': None}"
      ]
     },
     "metadata": {},
     "output_type": "display_data"
    },
    {
     "data": {
      "text/plain": [
       "{'subject': 'room',\n",
       " 'flatMeterage': None,\n",
       " 'roomMeterage': 15,\n",
       " 'rent': None,\n",
       " 'bills': None,\n",
       " 'deposit': None,\n",
       " 'internetSpeed': None,\n",
       " 'district': None,\n",
       " 'street': None,\n",
       " 'roomsCount': 3,\n",
       " 'flatmatesCount': None,\n",
       " 'flatmatesGenders': None,\n",
       " 'flatmatesOccupation': None,\n",
       " 'preferredOccupation': None,\n",
       " 'preferredGender': 'female'}"
      ]
     },
     "metadata": {},
     "output_type": "display_data"
    },
    {
     "data": {
      "text/plain": [
       "{'subject': 'room',\n",
       " 'flatMeterage': None,\n",
       " 'roomMeterage': None,\n",
       " 'rent': None,\n",
       " 'bills': None,\n",
       " 'deposit': None,\n",
       " 'internetSpeed': None,\n",
       " 'district': None,\n",
       " 'street': None,\n",
       " 'roomsCount': 4,\n",
       " 'flatmatesCount': 3,\n",
       " 'flatmatesGenders': ['male', 'male', 'male'],\n",
       " 'flatmatesOccupation': ['student', 'student', 'proffesional'],\n",
       " 'preferredOccupation': None,\n",
       " 'preferredGender': None}"
      ]
     },
     "metadata": {},
     "output_type": "display_data"
    },
    {
     "data": {
      "text/plain": [
       "{'subject': 'room',\n",
       " 'flatMeterage': None,\n",
       " 'roomMeterage': 20,\n",
       " 'rent': 950,\n",
       " 'bills': 80,\n",
       " 'deposit': 950,\n",
       " 'internetSpeed': None,\n",
       " 'district': None,\n",
       " 'street': 'Krucza',\n",
       " 'roomsCount': 3,\n",
       " 'flatmatesCount': 2,\n",
       " 'flatmatesGenders': ['female', 'female'],\n",
       " 'flatmatesOccupation': ['proffesional', 'proffesional'],\n",
       " 'preferredOccupation': None,\n",
       " 'preferredGender': None}"
      ]
     },
     "metadata": {},
     "output_type": "display_data"
    },
    {
     "data": {
      "text/plain": [
       "{'subject': 'room',\n",
       " 'flatMeterage': None,\n",
       " 'roomMeterage': None,\n",
       " 'rent': 650,\n",
       " 'bills': 70,\n",
       " 'deposit': None,\n",
       " 'internetSpeed': None,\n",
       " 'district': 'Gaj',\n",
       " 'street': 'Srebrnogórska',\n",
       " 'roomsCount': None,\n",
       " 'flatmatesCount': None,\n",
       " 'flatmatesGenders': None,\n",
       " 'flatmatesOccupation': None,\n",
       " 'preferredOccupation': 'professional',\n",
       " 'preferredGender': None}"
      ]
     },
     "metadata": {},
     "output_type": "display_data"
    },
    {
     "data": {
      "text/plain": [
       "{'subject': 'room',\n",
       " 'flatMeterage': None,\n",
       " 'roomMeterage': 12,\n",
       " 'rent': 650,\n",
       " 'bills': 100,\n",
       " 'deposit': None,\n",
       " 'internetSpeed': None,\n",
       " 'district': 'Kuźniki',\n",
       " 'street': None,\n",
       " 'roomsCount': 3,\n",
       " 'flatmatesCount': None,\n",
       " 'flatmatesGenders': None,\n",
       " 'flatmatesOccupation': None,\n",
       " 'preferredOccupation': None,\n",
       " 'preferredGender': None}"
      ]
     },
     "metadata": {},
     "output_type": "display_data"
    },
    {
     "data": {
      "text/plain": [
       "{'subject': 'roomShare',\n",
       " 'flatMeterage': None,\n",
       " 'roomMeterage': 30,\n",
       " 'rent': 900,\n",
       " 'bills': 155,\n",
       " 'deposit': 900,\n",
       " 'internetSpeed': None,\n",
       " 'district': None,\n",
       " 'street': 'Kraszewskiego',\n",
       " 'roomsCount': 3,\n",
       " 'flatmatesCount': None,\n",
       " 'flatmatesGenders': None,\n",
       " 'flatmatesOccupation': None,\n",
       " 'preferredOccupation': None,\n",
       " 'preferredGender': None}"
      ]
     },
     "metadata": {},
     "output_type": "display_data"
    },
    {
     "data": {
      "text/plain": [
       "{'subject': 'room',\n",
       " 'flatMeterage': None,\n",
       " 'roomMeterage': None,\n",
       " 'rent': 700,\n",
       " 'bills': 150,\n",
       " 'deposit': 850,\n",
       " 'internetSpeed': None,\n",
       " 'district': None,\n",
       " 'street': 'Siemieńskiego',\n",
       " 'roomsCount': 4,\n",
       " 'flatmatesCount': 3,\n",
       " 'flatmatesGenders': ['female', 'female', 'female'],\n",
       " 'flatmatesOccupation': None,\n",
       " 'preferredOccupation': 'student',\n",
       " 'preferredGender': 'female'}"
      ]
     },
     "metadata": {},
     "output_type": "display_data"
    },
    {
     "data": {
      "text/plain": [
       "{'subject': 'room',\n",
       " 'flatMeterage': None,\n",
       " 'roomMeterage': None,\n",
       " 'rent': 900,\n",
       " 'bills': 0,\n",
       " 'deposit': 900,\n",
       " 'internetSpeed': None,\n",
       " 'district': None,\n",
       " 'street': 'Kromera',\n",
       " 'roomsCount': None,\n",
       " 'flatmatesCount': None,\n",
       " 'flatmatesGenders': None,\n",
       " 'flatmatesOccupation': None,\n",
       " 'preferredOccupation': None,\n",
       " 'preferredGender': None}"
      ]
     },
     "metadata": {},
     "output_type": "display_data"
    },
    {
     "data": {
      "text/plain": [
       "{'subject': 'room',\n",
       " 'flatMeterage': 75,\n",
       " 'roomMeterage': 14,\n",
       " 'rent': 1000,\n",
       " 'bills': None,\n",
       " 'deposit': None,\n",
       " 'internetSpeed': None,\n",
       " 'district': 'Oporów',\n",
       " 'street': 'Balzaka',\n",
       " 'roomsCount': 3,\n",
       " 'flatmatesCount': 1,\n",
       " 'flatmatesGenders': ['female'],\n",
       " 'flatmatesOccupation': ['proffesional'],\n",
       " 'preferredOccupation': None,\n",
       " 'preferredGender': 'female'}"
      ]
     },
     "metadata": {},
     "output_type": "display_data"
    },
    {
     "data": {
      "text/plain": [
       "{'subject': 'room',\n",
       " 'flatMeterage': None,\n",
       " 'roomMeterage': None,\n",
       " 'rent': None,\n",
       " 'bills': 0,\n",
       " 'deposit': None,\n",
       " 'internetSpeed': None,\n",
       " 'district': 'Muchobór Mały',\n",
       " 'street': None,\n",
       " 'roomsCount': 3,\n",
       " 'flatmatesCount': None,\n",
       " 'flatmatesGenders': None,\n",
       " 'flatmatesOccupation': None,\n",
       " 'preferredOccupation': None,\n",
       " 'preferredGender': 'female'}"
      ]
     },
     "metadata": {},
     "output_type": "display_data"
    },
    {
     "data": {
      "text/plain": [
       "{'subject': 'room',\n",
       " 'flatMeterage': None,\n",
       " 'roomMeterage': None,\n",
       " 'rent': 750,\n",
       " 'bills': 150,\n",
       " 'deposit': 900,\n",
       " 'internetSpeed': None,\n",
       " 'district': 'Krzyki',\n",
       " 'street': 'Armii Krajowej',\n",
       " 'roomsCount': None,\n",
       " 'flatmatesCount': None,\n",
       " 'flatmatesGenders': None,\n",
       " 'flatmatesOccupation': None,\n",
       " 'preferredOccupation': None,\n",
       " 'preferredGender': None}"
      ]
     },
     "metadata": {},
     "output_type": "display_data"
    },
    {
     "data": {
      "text/plain": [
       "{'subject': 'room',\n",
       " 'flatMeterage': None,\n",
       " 'roomMeterage': 10,\n",
       " 'rent': 800,\n",
       " 'bills': 0,\n",
       " 'deposit': None,\n",
       " 'internetSpeed': None,\n",
       " 'district': None,\n",
       " 'street': 'Nowodworska',\n",
       " 'roomsCount': None,\n",
       " 'flatmatesCount': None,\n",
       " 'flatmatesGenders': None,\n",
       " 'flatmatesOccupation': None,\n",
       " 'preferredOccupation': None,\n",
       " 'preferredGender': None}"
      ]
     },
     "metadata": {},
     "output_type": "display_data"
    },
    {
     "data": {
      "text/plain": [
       "{'subject': 'room',\n",
       " 'flatMeterage': 46,\n",
       " 'roomMeterage': 12,\n",
       " 'rent': 1100,\n",
       " 'bills': 100,\n",
       " 'deposit': 1100,\n",
       " 'internetSpeed': 50,\n",
       " 'district': None,\n",
       " 'street': None,\n",
       " 'roomsCount': 2,\n",
       " 'flatmatesCount': None,\n",
       " 'flatmatesGenders': None,\n",
       " 'flatmatesOccupation': None,\n",
       " 'preferredOccupation': None,\n",
       " 'preferredGender': None}"
      ]
     },
     "metadata": {},
     "output_type": "display_data"
    },
    {
     "data": {
      "text/plain": [
       "{'subject': 'roomShare',\n",
       " 'flatMeterage': None,\n",
       " 'roomMeterage': None,\n",
       " 'rent': 400,\n",
       " 'bills': 0,\n",
       " 'deposit': None,\n",
       " 'internetSpeed': None,\n",
       " 'district': None,\n",
       " 'street': 'Dmowskiego',\n",
       " 'roomsCount': 3,\n",
       " 'flatmatesCount': None,\n",
       " 'flatmatesGenders': ['female'],\n",
       " 'flatmatesOccupation': ['student'],\n",
       " 'preferredOccupation': None,\n",
       " 'preferredGender': 'female'}"
      ]
     },
     "metadata": {},
     "output_type": "display_data"
    },
    {
     "data": {
      "text/plain": [
       "{'subject': 'room',\n",
       " 'flatMeterage': 63,\n",
       " 'roomMeterage': 12,\n",
       " 'rent': 600,\n",
       " 'bills': 150,\n",
       " 'deposit': 600,\n",
       " 'internetSpeed': None,\n",
       " 'district': 'Kozanów',\n",
       " 'street': 'Gołężycka',\n",
       " 'roomsCount': 3,\n",
       " 'flatmatesCount': None,\n",
       " 'flatmatesGenders': ['female', 'female'],\n",
       " 'flatmatesOccupation': None,\n",
       " 'preferredOccupation': None,\n",
       " 'preferredGender': 'female'}"
      ]
     },
     "metadata": {},
     "output_type": "display_data"
    },
    {
     "data": {
      "text/plain": [
       "{'subject': 'room',\n",
       " 'flatMeterage': 88,\n",
       " 'roomMeterage': 12,\n",
       " 'rent': 820,\n",
       " 'bills': 140,\n",
       " 'internetSpeed': 150,\n",
       " 'district': 'Muchobór Mały',\n",
       " 'street': None,\n",
       " 'roomsCount': None,\n",
       " 'flatmatesCount': None,\n",
       " 'flatmatesGenders': None,\n",
       " 'flatmatesOccupation': None,\n",
       " 'preferredOccupation': None,\n",
       " 'preferredGender': None}"
      ]
     },
     "metadata": {},
     "output_type": "display_data"
    },
    {
     "data": {
      "text/plain": [
       "{'subject': 'room',\n",
       " 'flatMeterage': None,\n",
       " 'roomMeterage': None,\n",
       " 'rent': 850,\n",
       " 'bills': 100,\n",
       " 'deposit': 850,\n",
       " 'internetSpeed': 50,\n",
       " 'district': 'Krzyki',\n",
       " 'street': 'Śliczna',\n",
       " 'roomsCount': None,\n",
       " 'flatmatesCount': 2,\n",
       " 'flatmatesGenders': ['male', 'male'],\n",
       " 'flatmatesOccupation': None,\n",
       " 'preferredOccupation': None,\n",
       " 'preferredGender': None}"
      ]
     },
     "metadata": {},
     "output_type": "display_data"
    },
    {
     "data": {
      "text/plain": [
       "{'subject': 'room',\n",
       " 'flatMeterage': None,\n",
       " 'roomMeterage': None,\n",
       " 'rent': 1000,\n",
       " 'bills': 0,\n",
       " 'deposit': 0,\n",
       " 'internetSpeed': None,\n",
       " 'district': None,\n",
       " 'street': None,\n",
       " 'roomsCount': None,\n",
       " 'flatmatesCount': 1,\n",
       " 'flatmatesGenders': ['male'],\n",
       " 'flatmatesOccupation': None,\n",
       " 'preferredOccupation': None,\n",
       " 'preferredGender': None}"
      ]
     },
     "metadata": {},
     "output_type": "display_data"
    },
    {
     "data": {
      "text/plain": [
       "{'subject': 'roomShare',\n",
       " 'flatMeterage': None,\n",
       " 'roomMeterage': 18,\n",
       " 'rent': 550,\n",
       " 'bills': 200,\n",
       " 'deposit': 700,\n",
       " 'internetSpeed': 40,\n",
       " 'district': None,\n",
       " 'street': 'Grunwaldzka',\n",
       " 'roomsCount': 3,\n",
       " 'flatmatesCount': None,\n",
       " 'flatmatesGenders': None,\n",
       " 'flatmatesOccupation': None,\n",
       " 'preferredOccupation': None,\n",
       " 'preferredGender': None}"
      ]
     },
     "metadata": {},
     "output_type": "display_data"
    },
    {
     "data": {
      "text/plain": [
       "{'subject': 'room',\n",
       " 'flatMeterage': None,\n",
       " 'roomMeterage': None,\n",
       " 'rent': 850,\n",
       " 'bills': 0,\n",
       " 'deposit': 800,\n",
       " 'internetSpeed': None,\n",
       " 'district': None,\n",
       " 'street': 'Wąska',\n",
       " 'roomsCount': 3,\n",
       " 'flatmatesCount': None,\n",
       " 'flatmatesGenders': None,\n",
       " 'flatmatesOccupation': None,\n",
       " 'preferredOccupation': None,\n",
       " 'preferredGender': None}"
      ]
     },
     "metadata": {},
     "output_type": "display_data"
    },
    {
     "data": {
      "text/plain": [
       "{'subject': 'room',\n",
       " 'flatMeterage': None,\n",
       " 'roomMeterage': 10,\n",
       " 'rent': 900,\n",
       " 'bills': 80,\n",
       " 'deposit': 900,\n",
       " 'internetSpeed': 60,\n",
       " 'district': 'Plac Grunwaldzki',\n",
       " 'street': 'Sienkiewicza',\n",
       " 'roomsCount': 3,\n",
       " 'flatmatesCount': 3,\n",
       " 'flatmatesGenders': None,\n",
       " 'flatmatesOccupation': ['professional'],\n",
       " 'preferredOccupation': None,\n",
       " 'preferredGender': None}"
      ]
     },
     "metadata": {},
     "output_type": "display_data"
    },
    {
     "data": {
      "text/plain": [
       "{'subject': 'room',\n",
       " 'flatMeterage': None,\n",
       " 'roomMeterage': None,\n",
       " 'rent': None,\n",
       " 'bills': None,\n",
       " 'deposit': None,\n",
       " 'internetSpeed': 250,\n",
       " 'district': None,\n",
       " 'street': 'Skwierzyńska',\n",
       " 'roomsCount': 4,\n",
       " 'flatmatesCount': 6,\n",
       " 'flatmatesGenders': ['male', 'male', 'male', 'female', 'female', 'female'],\n",
       " 'flatmatesOccupation': None,\n",
       " 'preferredOccupation': None,\n",
       " 'preferredGender': None}"
      ]
     },
     "metadata": {},
     "output_type": "display_data"
    }
   ],
   "source": [
    "X = []\n",
    "y = []\n",
    "\n",
    "for d in data_sets:\n",
    "    content = d[\"content\"]\n",
    "    category = d[\"meta\"][\"preferredGender\"]\n",
    "    if category is None:\n",
    "        category = 'any'\n",
    "    X.append(content)\n",
    "    y.append(translation[category])\n",
    "    \n",
    "y = np.array(y)"
   ]
  },
  {
   "cell_type": "code",
   "execution_count": 8,
   "metadata": {},
   "outputs": [],
   "source": [
    "documents = []\n",
    "\n",
    "for sen in range(0, len(X)):  \n",
    "    # Remove all the special characters\n",
    "    document = re.sub(r'\\W', ' ', str(X[sen]))\n",
    "\n",
    "    # remove all single characters\n",
    "    document = re.sub(r'\\s+[a-zA-Z]\\s+', ' ', document)\n",
    "\n",
    "    # Remove single characters from the start\n",
    "    document = re.sub(r'\\^[a-zA-Z]\\s+', ' ', document) \n",
    "\n",
    "    # Substituting multiple spaces with single space\n",
    "    document = re.sub(r'\\s+', ' ', document, flags=re.I)\n",
    "\n",
    "    documents.append(document)"
   ]
  },
  {
   "cell_type": "code",
   "execution_count": 9,
   "metadata": {},
   "outputs": [],
   "source": [
    "\n",
    "stopwords = load.load_stopwords();"
   ]
  },
  {
   "cell_type": "code",
   "execution_count": 56,
   "metadata": {},
   "outputs": [],
   "source": [
    "from sklearn.feature_extraction.text import TfidfVectorizer  \n",
    "tfidfconverter = TfidfVectorizer(max_features=500, min_df=1, ngram_range=(1, 2), lowercase=True)  \n",
    "tfidf = tfidfconverter.fit(documents)\n",
    "\n",
    "X = tfidf.transform(documents).toarray()  "
   ]
  },
  {
   "cell_type": "code",
   "execution_count": 57,
   "metadata": {},
   "outputs": [],
   "source": [
    "from sklearn.model_selection import train_test_split  \n",
    "X_train, X_test, y_train, y_test = train_test_split(X, y, test_size=0.25, random_state=2)  "
   ]
  },
  {
   "cell_type": "code",
   "execution_count": 58,
   "metadata": {},
   "outputs": [],
   "source": [
    "from sklearn.model_selection import cross_val_score\n",
    "from sklearn.ensemble import AdaBoostClassifier\n",
    "classifier = AdaBoostClassifier(n_estimators=100) \n",
    "# scores = cross_val_score(classifier, X, y, cv=4)\n",
    "classifier.fit(X_train, y_train)  \n",
    "y_pred = classifier.predict(X_test) "
   ]
  },
  {
   "cell_type": "code",
   "execution_count": 59,
   "metadata": {},
   "outputs": [
    {
     "data": {
      "text/plain": [
       "array([0.76923077, 0.89189189, 0.75675676, 0.72972973])"
      ]
     },
     "metadata": {},
     "output_type": "display_data"
    },
    {
     "data": {
      "text/plain": [
       "0.786902286902287"
      ]
     },
     "metadata": {},
     "output_type": "display_data"
    },
    {
     "name": "stdout",
     "output_type": "stream",
     "text": [
      "[[28  3]\n",
      " [ 5  2]]\n",
      "              precision    recall  f1-score   support\n",
      "\n",
      "           0       0.85      0.90      0.88        31\n",
      "           2       0.40      0.29      0.33         7\n",
      "\n",
      "   micro avg       0.79      0.79      0.79        38\n",
      "   macro avg       0.62      0.59      0.60        38\n",
      "weighted avg       0.77      0.79      0.78        38\n",
      "\n",
      "0.7894736842105263\n"
     ]
    },
    {
     "data": {
      "image/png": "[encoded data removed]",
      "text/plain": [
       "<Figure size 432x288 with 2 Axes>"
      ]
     },
     "metadata": {
      "needs_background": "light"
     },
     "output_type": "display_data"
    }
   ],
   "source": [
    "display (scores)\n",
    "display (scores.mean())\n",
    "from sklearn.metrics import classification_report, confusion_matrix, accuracy_score\n",
    "import seaborn as sns\n",
    "import matplotlib.pyplot as plt\n",
    "import pandas as pd \n",
    "\n",
    "print(confusion_matrix(y_test,y_pred))  \n",
    "print(classification_report(y_test,y_pred))  \n",
    "print(accuracy_score(y_test, y_pred))  \n",
    "\n",
    "conf_matrix_df = pd.DataFrame(confusion_matrix(y_test,y_pred), \\\n",
    "                                index= [key for key in (\"any\", \"female\")], \\\n",
    "                                columns=[key for key in (\"any\", \"female\")])\n",
    "sns.heatmap(conf_matrix_df, annot=True)\n",
    "plt.show()"
   ]
  },
  {
   "cell_type": "code",
   "execution_count": null,
   "metadata": {},
   "outputs": [],
   "source": [
    "with open('classifier_occupation.pickle', 'wb') as picklefile:  \n",
    "    pickle.dump(classifier,picklefile)"
   ]
  },
  {
   "cell_type": "code",
   "execution_count": null,
   "metadata": {},
   "outputs": [],
   "source": [
    "pickle.dump(tfidf, open(\"tfidf_occupation.pickle\", \"wb\"))"
   ]
  },
  {
   "cell_type": "code",
   "execution_count": 61,
   "metadata": {},
   "outputs": [
    {
     "data": {
      "image/png": "[encoded data removed]",
      "text/plain": [
       "<Figure size 432x288 with 2 Axes>"
      ]
     },
     "metadata": {
      "needs_background": "light"
     },
     "output_type": "display_data"
    }
   ],
   "source": [
    "sns.heatmap(conf_matrix_df, annot=True).get_figure().savefig(\"gender.png\")"
   ]
  }
 ],
 "metadata": {
  "kernelspec": {
   "display_name": "Python 3",
   "language": "python",
   "name": "python3"
  },
  "language_info": {
   "codemirror_mode": {
    "name": "ipython",
    "version": 3
   },
   "file_extension": ".py",
   "mimetype": "text/x-python",
   "name": "python",
   "nbconvert_exporter": "python",
   "pygments_lexer": "ipython3",
   "version": "3.6.7"
  }
 },
 "nbformat": 4,
 "nbformat_minor": 2
}
