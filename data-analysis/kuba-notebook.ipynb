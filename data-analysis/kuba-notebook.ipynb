{
 "cells": [
  {
   "cell_type": "code",
   "execution_count": null,
   "metadata": {},
   "outputs": [],
   "source": [
    "import json\n",
    "import pandas as pd\n",
    "from src.comparator import compare_metadata, Comparator, print_diff, print_correctly_extracted\n",
    "from src.datasets import load\n",
    "from src.kuba_information_extractor import KubaInformationExtractor\n",
    "import pprint\n",
    "\n",
    "DATA_PATH = 'data/'\n",
    "data_sets = load(DATA_PATH)"
   ]
  },
  {
   "cell_type": "markdown",
   "metadata": {},
   "source": [
    "## Wydobycie danych oraz wygenetowanie tablicy różnic pomiędzy oryginalnymi danymi, a wydobytymi"
   ]
  },
  {
   "cell_type": "code",
   "execution_count": null,
   "metadata": {},
   "outputs": [],
   "source": [
    "diffs = []\n",
    "information_extractor = KubaInformationExtractor()\n",
    "\n",
    "for data_set in data_sets:\n",
    "    meta = information_extractor.extract(data_set['content'])\n",
    "    diffs.append(compare_metadata(data_set['meta'], meta))"
   ]
  },
  {
   "cell_type": "markdown",
   "metadata": {},
   "source": [
    "## Przkształacanie danych na odpowiednie do wyśtwietlenia w tabeli"
   ]
  },
  {
   "cell_type": "code",
   "execution_count": null,
   "metadata": {
    "scrolled": true
   },
   "outputs": [],
   "source": [
    "equals = {}\n",
    "originals = {}\n",
    "extracted = {}\n",
    "\n",
    "# dla czytelnosci tylko dla jednego pliku\n",
    "for key, value in diffs[8].items():\n",
    "    equals[key] = value['equal']\n",
    "    originals[key] = value['original']\n",
    "    extracted[key] = value['extracted']\n",
    "    \n",
    "diff_for_table = {'equals': equals, 'original': originals, 'extracted': extracted}\n",
    "dataframe = pd.DataFrame(data=diff_for_table)\n",
    "dataframe.index.name = \"quality\"\n",
    "display(dataframe)"
   ]
  },
  {
   "cell_type": "code",
   "execution_count": null,
   "metadata": {},
   "outputs": [],
   "source": [
    "comparator = Comparator(data_sets)\n",
    "accuracy, correctly_extracted, incorrectly_extracted = comparator.measure_accuracy(information_extractor,\n",
    "                                                                                   attributes=['district'],\n",
    "                                                                                   skip_nones=True)\n",
    "print(\"Accuracy: {}\\n\".format(accuracy))\n",
    "print(\"------------------ Correct -------------------\")\n",
    "print_correctly_extracted(correctly_extracted)\n",
    "print(\"------------------ Incorrect -----------------\")\n",
    "print_diff(incorrectly_extracted)\n"
   ]
  }
 ],
 "metadata": {
  "kernelspec": {
   "display_name": "Python 3",
   "language": "python",
   "name": "python3"
  },
  "language_info": {
   "codemirror_mode": {
    "name": "ipython",
    "version": 3
   },
   "file_extension": ".py",
   "mimetype": "text/x-python",
   "name": "python",
   "nbconvert_exporter": "python",
   "pygments_lexer": "ipython3",
   "version": "3.6.7"
  }
 },
 "nbformat": 4,
 "nbformat_minor": 2
}
