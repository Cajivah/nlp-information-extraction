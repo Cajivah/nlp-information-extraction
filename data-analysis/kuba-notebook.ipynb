{
 "cells": [
  {
   "cell_type": "code",
   "execution_count": 1,
   "metadata": {},
   "outputs": [],
   "source": [
    "import json\n",
    "import pandas as pd\n",
    "from src.comparator import compare_metadata\n",
    "from src.datasets import load\n",
    "from src.simple_information_extractor import SimpleInformationExtractor\n",
    "import pprint\n",
    "\n",
    "DATA_PATH = 'data/'\n",
    "data_sets = load(DATA_PATH)"
   ]
  },
  {
   "cell_type": "markdown",
   "metadata": {},
   "source": [
    "## Wydobycie danych oraz wygenetowanie tablicy różnic pomiędzy oryginalnymi danymi, a wydobytymi"
   ]
  },
  {
   "cell_type": "code",
   "execution_count": 2,
   "metadata": {},
   "outputs": [],
   "source": [
    "diffs = []\n",
    "for data_set in data_sets:\n",
    "    information_extractor = SimpleInformationExtractor(data_set['content'])\n",
    "    meta = information_extractor.extract()\n",
    "    diffs.append(compare_metadata(data_set['meta'], meta))"
   ]
  },
  {
   "cell_type": "markdown",
   "metadata": {},
   "source": [
    "## Przkształacanie danych na odpowiednie do wyśtwietlenia w tabeli"
   ]
  },
  {
   "cell_type": "code",
   "execution_count": 3,
   "metadata": {
    "scrolled": true
   },
   "outputs": [
    {
     "data": {
      "text/html": [
       "<div>\n",
       "<style scoped>\n",
       "    .dataframe tbody tr th:only-of-type {\n",
       "        vertical-align: middle;\n",
       "    }\n",
       "\n",
       "    .dataframe tbody tr th {\n",
       "        vertical-align: top;\n",
       "    }\n",
       "\n",
       "    .dataframe thead th {\n",
       "        text-align: right;\n",
       "    }\n",
       "</style>\n",
       "<table border=\"1\" class=\"dataframe\">\n",
       "  <thead>\n",
       "    <tr style=\"text-align: right;\">\n",
       "      <th></th>\n",
       "      <th>equals</th>\n",
       "      <th>original</th>\n",
       "      <th>extracted</th>\n",
       "    </tr>\n",
       "    <tr>\n",
       "      <th>quality</th>\n",
       "      <th></th>\n",
       "      <th></th>\n",
       "      <th></th>\n",
       "    </tr>\n",
       "  </thead>\n",
       "  <tbody>\n",
       "    <tr>\n",
       "      <th>bills</th>\n",
       "      <td>False</td>\n",
       "      <td>100</td>\n",
       "      <td>None</td>\n",
       "    </tr>\n",
       "    <tr>\n",
       "      <th>deposit</th>\n",
       "      <td>False</td>\n",
       "      <td>800</td>\n",
       "      <td>None</td>\n",
       "    </tr>\n",
       "    <tr>\n",
       "      <th>district</th>\n",
       "      <td>False</td>\n",
       "      <td>Krzyki</td>\n",
       "      <td>None</td>\n",
       "    </tr>\n",
       "    <tr>\n",
       "      <th>flatmatesCount</th>\n",
       "      <td>False</td>\n",
       "      <td>2</td>\n",
       "      <td>None</td>\n",
       "    </tr>\n",
       "    <tr>\n",
       "      <th>flatmatesGenders</th>\n",
       "      <td>False</td>\n",
       "      <td>[male, male]</td>\n",
       "      <td>None</td>\n",
       "    </tr>\n",
       "    <tr>\n",
       "      <th>flatmatesOccupation</th>\n",
       "      <td>False</td>\n",
       "      <td>[proffesional, proffesional]</td>\n",
       "      <td>None</td>\n",
       "    </tr>\n",
       "    <tr>\n",
       "      <th>internetSpeed</th>\n",
       "      <td>True</td>\n",
       "      <td>None</td>\n",
       "      <td>None</td>\n",
       "    </tr>\n",
       "    <tr>\n",
       "      <th>preferredGender</th>\n",
       "      <td>True</td>\n",
       "      <td>None</td>\n",
       "      <td>None</td>\n",
       "    </tr>\n",
       "    <tr>\n",
       "      <th>preferredOccupation</th>\n",
       "      <td>True</td>\n",
       "      <td>None</td>\n",
       "      <td>None</td>\n",
       "    </tr>\n",
       "    <tr>\n",
       "      <th>rent</th>\n",
       "      <td>False</td>\n",
       "      <td>700</td>\n",
       "      <td>None</td>\n",
       "    </tr>\n",
       "    <tr>\n",
       "      <th>roomsCount</th>\n",
       "      <td>False</td>\n",
       "      <td>3</td>\n",
       "      <td>None</td>\n",
       "    </tr>\n",
       "    <tr>\n",
       "      <th>street</th>\n",
       "      <td>False</td>\n",
       "      <td>Burzowa 3</td>\n",
       "      <td>None</td>\n",
       "    </tr>\n",
       "    <tr>\n",
       "      <th>subject</th>\n",
       "      <td>False</td>\n",
       "      <td>room</td>\n",
       "      <td>None</td>\n",
       "    </tr>\n",
       "  </tbody>\n",
       "</table>\n",
       "</div>"
      ],
      "text/plain": [
       "                     equals                      original extracted\n",
       "quality                                                            \n",
       "bills                 False                           100      None\n",
       "deposit               False                           800      None\n",
       "district              False                        Krzyki      None\n",
       "flatmatesCount        False                             2      None\n",
       "flatmatesGenders      False                  [male, male]      None\n",
       "flatmatesOccupation   False  [proffesional, proffesional]      None\n",
       "internetSpeed          True                          None      None\n",
       "preferredGender        True                          None      None\n",
       "preferredOccupation    True                          None      None\n",
       "rent                  False                           700      None\n",
       "roomsCount            False                             3      None\n",
       "street                False                     Burzowa 3      None\n",
       "subject               False                          room      None"
      ]
     },
     "metadata": {},
     "output_type": "display_data"
    }
   ],
   "source": [
    "equals = {}\n",
    "originals = {}\n",
    "extracted = {}\n",
    "\n",
    "# dla czytelnosci tylko dla jednego pliku\n",
    "for key, value in diffs[8].items():\n",
    "    equals[key] = value['equal']\n",
    "    originals[key] = value['original']\n",
    "    extracted[key] = value['extracted']\n",
    "    \n",
    "diff_for_table = {'equals': equals, 'original': originals, 'extracted': extracted}\n",
    "\n",
    "dataframe = pd.DataFrame(data=diff_for_table)\n",
    "dataframe.index.name = \"quality\"\n",
    "display(dataframe)"
   ]
  },
  {
   "cell_type": "code",
   "execution_count": null,
   "metadata": {},
   "outputs": [],
   "source": []
  }
 ],
 "metadata": {
  "kernelspec": {
   "display_name": "Python 3",
   "language": "python",
   "name": "python3"
  },
  "language_info": {
   "codemirror_mode": {
    "name": "ipython",
    "version": 3
   },
   "file_extension": ".py",
   "mimetype": "text/x-python",
   "name": "python",
   "nbconvert_exporter": "python",
   "pygments_lexer": "ipython3",
   "version": "3.6.6"
  }
 },
 "nbformat": 4,
 "nbformat_minor": 2
}
