{
 "cells": [
  {
   "cell_type": "code",
   "execution_count": 1,
   "metadata": {},
   "outputs": [],
   "source": [
    "from src.metadata import count as count_method, frequency, sort_by_value, map_to_polish_names, files_stats, sort_by_key\n",
    "from src.datasets import load\n",
    "import pandas as pd\n",
    "import matplotlib.pyplot as plt\n",
    "import numpy as np\n",
    "\n",
    "%matplotlib inline\n",
    "DATA_PATH = 'data/'\n",
    "data_sets = load(DATA_PATH)"
   ]
  },
  {
   "cell_type": "markdown",
   "metadata": {},
   "source": [
    "### Cześtość występowania"
   ]
  },
  {
   "cell_type": "code",
   "execution_count": 2,
   "metadata": {
    "scrolled": true
   },
   "outputs": [
    {
     "data": {
      "text/html": [
       "<div>\n",
       "<style scoped>\n",
       "    .dataframe tbody tr th:only-of-type {\n",
       "        vertical-align: middle;\n",
       "    }\n",
       "\n",
       "    .dataframe tbody tr th {\n",
       "        vertical-align: top;\n",
       "    }\n",
       "\n",
       "    .dataframe thead th {\n",
       "        text-align: right;\n",
       "    }\n",
       "</style>\n",
       "<table border=\"1\" class=\"dataframe\">\n",
       "  <thead>\n",
       "    <tr style=\"text-align: right;\">\n",
       "      <th></th>\n",
       "      <th>Atrybut</th>\n",
       "      <th>Liczba wystąpień</th>\n",
       "      <th>Procent wystąpień</th>\n",
       "    </tr>\n",
       "  </thead>\n",
       "  <tbody>\n",
       "    <tr>\n",
       "      <th>0</th>\n",
       "      <td>temat</td>\n",
       "      <td>150</td>\n",
       "      <td>100.0</td>\n",
       "    </tr>\n",
       "    <tr>\n",
       "      <th>1</th>\n",
       "      <td>czynsz</td>\n",
       "      <td>131</td>\n",
       "      <td>87.3</td>\n",
       "    </tr>\n",
       "    <tr>\n",
       "      <th>2</th>\n",
       "      <td>ulica</td>\n",
       "      <td>126</td>\n",
       "      <td>84.0</td>\n",
       "    </tr>\n",
       "    <tr>\n",
       "      <th>3</th>\n",
       "      <td>rachunki</td>\n",
       "      <td>121</td>\n",
       "      <td>80.7</td>\n",
       "    </tr>\n",
       "    <tr>\n",
       "      <th>4</th>\n",
       "      <td>liczba pokojów</td>\n",
       "      <td>100</td>\n",
       "      <td>66.7</td>\n",
       "    </tr>\n",
       "    <tr>\n",
       "      <th>5</th>\n",
       "      <td>kaucja</td>\n",
       "      <td>75</td>\n",
       "      <td>50.0</td>\n",
       "    </tr>\n",
       "    <tr>\n",
       "      <th>6</th>\n",
       "      <td>osiedle</td>\n",
       "      <td>51</td>\n",
       "      <td>34.0</td>\n",
       "    </tr>\n",
       "    <tr>\n",
       "      <th>7</th>\n",
       "      <td>liczba współlokatorów</td>\n",
       "      <td>50</td>\n",
       "      <td>33.3</td>\n",
       "    </tr>\n",
       "    <tr>\n",
       "      <th>8</th>\n",
       "      <td>płeć współlokatorów</td>\n",
       "      <td>42</td>\n",
       "      <td>28.0</td>\n",
       "    </tr>\n",
       "    <tr>\n",
       "      <th>9</th>\n",
       "      <td>zawód współlokatorów</td>\n",
       "      <td>31</td>\n",
       "      <td>20.7</td>\n",
       "    </tr>\n",
       "    <tr>\n",
       "      <th>10</th>\n",
       "      <td>preferowana płeć</td>\n",
       "      <td>26</td>\n",
       "      <td>17.3</td>\n",
       "    </tr>\n",
       "    <tr>\n",
       "      <th>11</th>\n",
       "      <td>metraż mieszkania</td>\n",
       "      <td>25</td>\n",
       "      <td>16.7</td>\n",
       "    </tr>\n",
       "    <tr>\n",
       "      <th>12</th>\n",
       "      <td>prędkość internetu</td>\n",
       "      <td>23</td>\n",
       "      <td>15.3</td>\n",
       "    </tr>\n",
       "    <tr>\n",
       "      <th>13</th>\n",
       "      <td>preferowany zawód</td>\n",
       "      <td>15</td>\n",
       "      <td>10.0</td>\n",
       "    </tr>\n",
       "  </tbody>\n",
       "</table>\n",
       "</div>"
      ],
      "text/plain": [
       "                  Atrybut  Liczba wystąpień  Procent wystąpień\n",
       "0                   temat               150              100.0\n",
       "1                  czynsz               131               87.3\n",
       "2                   ulica               126               84.0\n",
       "3                rachunki               121               80.7\n",
       "4          liczba pokojów               100               66.7\n",
       "5                  kaucja                75               50.0\n",
       "6                 osiedle                51               34.0\n",
       "7   liczba współlokatorów                50               33.3\n",
       "8     płeć współlokatorów                42               28.0\n",
       "9    zawód współlokatorów                31               20.7\n",
       "10       preferowana płeć                26               17.3\n",
       "11      metraż mieszkania                25               16.7\n",
       "12     prędkość internetu                23               15.3\n",
       "13      preferowany zawód                15               10.0"
      ]
     },
     "metadata": {},
     "output_type": "display_data"
    }
   ],
   "source": [
    "freqs = frequency(data_sets)\n",
    "freqs = map_to_polish_names(freqs)\n",
    "freqs = sort_by_value(freqs, reverse=True)\n",
    "counts = count_method(data_sets)\n",
    "counts = map_to_polish_names(counts)\n",
    "counts = sort_by_value(counts, reverse=True)\n",
    "\n",
    "meta_stats = []\n",
    "for item in zip(counts, freqs):\n",
    "    count, freq = item\n",
    "    attribute, count = count\n",
    "    attribute, freq = freq\n",
    "    freq = freq * 100\n",
    "    meta_stats.append([attribute, count, freq])\n",
    "\n",
    "columns = ['Atrybut', 'Liczba wystąpień', 'Procent wystąpień']\n",
    "df = pd.DataFrame(data=meta_stats, columns=columns)\n",
    "display(df)"
   ]
  },
  {
   "cell_type": "code",
   "execution_count": 3,
   "metadata": {
    "scrolled": true
   },
   "outputs": [
    {
     "data": {
      "image/png": "[encoded data removed]",
      "text/plain": [
       "<Figure size 432x288 with 1 Axes>"
      ]
     },
     "metadata": {
      "needs_background": "light"
     },
     "output_type": "display_data"
    }
   ],
   "source": [
    "fs = files_stats(data_sets)\n",
    "fs = sort_by_key(fs)\n",
    "l = []\n",
    "for key, value in fs:\n",
    "    l.append((key, value))\n",
    "\n",
    "x_values = [key for key, value in fs]\n",
    "bars_count = np.arange(len(x_values))\n",
    "y_values = [value for key, value in fs]\n",
    " \n",
    "plt.bar(bars_count, y_values, align='center')\n",
    "plt.xticks(bars_count, x_values)\n",
    "plt.ylabel('liczba ogłoszeń')\n",
    "plt.xlabel('ilość informacji')\n",
    "plt.title('Ilość informacji w ogłoszeniach')\n",
    "\n",
    "#plt.savefig(f\"plots/informacje_w_danych\", format='eps')\n",
    "plt.show()"
   ]
  },
  {
   "cell_type": "code",
   "execution_count": null,
   "metadata": {},
   "outputs": [],
   "source": []
  }
 ],
 "metadata": {
  "kernelspec": {
   "display_name": "Python 3",
   "language": "python",
   "name": "python3"
  },
  "language_info": {
   "codemirror_mode": {
    "name": "ipython",
    "version": 3
   },
   "file_extension": ".py",
   "mimetype": "text/x-python",
   "name": "python",
   "nbconvert_exporter": "python",
   "pygments_lexer": "ipython3",
   "version": "3.6.7"
  }
 },
 "nbformat": 4,
 "nbformat_minor": 2
}
